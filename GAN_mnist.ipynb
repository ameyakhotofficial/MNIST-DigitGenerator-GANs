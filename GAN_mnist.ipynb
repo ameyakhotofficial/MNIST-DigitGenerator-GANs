{
  "nbformat": 4,
  "nbformat_minor": 0,
  "metadata": {
    "colab": {
      "name": "GAN-mnist.ipynb",
      "provenance": [],
      "collapsed_sections": []
    },
    "kernelspec": {
      "name": "python3",
      "display_name": "Python 3"
    },
    "accelerator": "GPU",
    "widgets": {
      "application/vnd.jupyter.widget-state+json": {
        "7d4417cbd22849bb9ed94baeffe90519": {
          "model_module": "@jupyter-widgets/controls",
          "model_name": "HBoxModel",
          "state": {
            "_view_name": "HBoxView",
            "_dom_classes": [],
            "_model_name": "HBoxModel",
            "_view_module": "@jupyter-widgets/controls",
            "_model_module_version": "1.5.0",
            "_view_count": null,
            "_view_module_version": "1.5.0",
            "box_style": "",
            "layout": "IPY_MODEL_256974b5b97a401a8ba2e7c3c139e7e6",
            "_model_module": "@jupyter-widgets/controls",
            "children": [
              "IPY_MODEL_8fd73a5f8c3c46899f4199d42327a858",
              "IPY_MODEL_9cd1fdd5ff8e463d9247e5747ce78a63"
            ]
          }
        },
        "256974b5b97a401a8ba2e7c3c139e7e6": {
          "model_module": "@jupyter-widgets/base",
          "model_name": "LayoutModel",
          "state": {
            "_view_name": "LayoutView",
            "grid_template_rows": null,
            "right": null,
            "justify_content": null,
            "_view_module": "@jupyter-widgets/base",
            "overflow": null,
            "_model_module_version": "1.2.0",
            "_view_count": null,
            "flex_flow": null,
            "width": null,
            "min_width": null,
            "border": null,
            "align_items": null,
            "bottom": null,
            "_model_module": "@jupyter-widgets/base",
            "top": null,
            "grid_column": null,
            "overflow_y": null,
            "overflow_x": null,
            "grid_auto_flow": null,
            "grid_area": null,
            "grid_template_columns": null,
            "flex": null,
            "_model_name": "LayoutModel",
            "justify_items": null,
            "grid_row": null,
            "max_height": null,
            "align_content": null,
            "visibility": null,
            "align_self": null,
            "height": null,
            "min_height": null,
            "padding": null,
            "grid_auto_rows": null,
            "grid_gap": null,
            "max_width": null,
            "order": null,
            "_view_module_version": "1.2.0",
            "grid_template_areas": null,
            "object_position": null,
            "object_fit": null,
            "grid_auto_columns": null,
            "margin": null,
            "display": null,
            "left": null
          }
        },
        "8fd73a5f8c3c46899f4199d42327a858": {
          "model_module": "@jupyter-widgets/controls",
          "model_name": "FloatProgressModel",
          "state": {
            "_view_name": "ProgressView",
            "style": "IPY_MODEL_ee8bbbdd2ff947fab84e3a87cace9453",
            "_dom_classes": [],
            "description": "",
            "_model_name": "FloatProgressModel",
            "bar_style": "info",
            "max": 1,
            "_view_module": "@jupyter-widgets/controls",
            "_model_module_version": "1.5.0",
            "value": 1,
            "_view_count": null,
            "_view_module_version": "1.5.0",
            "orientation": "horizontal",
            "min": 0,
            "description_tooltip": null,
            "_model_module": "@jupyter-widgets/controls",
            "layout": "IPY_MODEL_6999a00f87d0442783e581b653c974eb"
          }
        },
        "9cd1fdd5ff8e463d9247e5747ce78a63": {
          "model_module": "@jupyter-widgets/controls",
          "model_name": "HTMLModel",
          "state": {
            "_view_name": "HTMLView",
            "style": "IPY_MODEL_22bb5f7583b6473cb52e81ececf19314",
            "_dom_classes": [],
            "description": "",
            "_model_name": "HTMLModel",
            "placeholder": "​",
            "_view_module": "@jupyter-widgets/controls",
            "_model_module_version": "1.5.0",
            "value": " 9920512/? [00:20&lt;00:00, 1098859.16it/s]",
            "_view_count": null,
            "_view_module_version": "1.5.0",
            "description_tooltip": null,
            "_model_module": "@jupyter-widgets/controls",
            "layout": "IPY_MODEL_a06f333f824b4358a72d2c26292c948e"
          }
        },
        "ee8bbbdd2ff947fab84e3a87cace9453": {
          "model_module": "@jupyter-widgets/controls",
          "model_name": "ProgressStyleModel",
          "state": {
            "_view_name": "StyleView",
            "_model_name": "ProgressStyleModel",
            "description_width": "initial",
            "_view_module": "@jupyter-widgets/base",
            "_model_module_version": "1.5.0",
            "_view_count": null,
            "_view_module_version": "1.2.0",
            "bar_color": null,
            "_model_module": "@jupyter-widgets/controls"
          }
        },
        "6999a00f87d0442783e581b653c974eb": {
          "model_module": "@jupyter-widgets/base",
          "model_name": "LayoutModel",
          "state": {
            "_view_name": "LayoutView",
            "grid_template_rows": null,
            "right": null,
            "justify_content": null,
            "_view_module": "@jupyter-widgets/base",
            "overflow": null,
            "_model_module_version": "1.2.0",
            "_view_count": null,
            "flex_flow": null,
            "width": null,
            "min_width": null,
            "border": null,
            "align_items": null,
            "bottom": null,
            "_model_module": "@jupyter-widgets/base",
            "top": null,
            "grid_column": null,
            "overflow_y": null,
            "overflow_x": null,
            "grid_auto_flow": null,
            "grid_area": null,
            "grid_template_columns": null,
            "flex": null,
            "_model_name": "LayoutModel",
            "justify_items": null,
            "grid_row": null,
            "max_height": null,
            "align_content": null,
            "visibility": null,
            "align_self": null,
            "height": null,
            "min_height": null,
            "padding": null,
            "grid_auto_rows": null,
            "grid_gap": null,
            "max_width": null,
            "order": null,
            "_view_module_version": "1.2.0",
            "grid_template_areas": null,
            "object_position": null,
            "object_fit": null,
            "grid_auto_columns": null,
            "margin": null,
            "display": null,
            "left": null
          }
        },
        "22bb5f7583b6473cb52e81ececf19314": {
          "model_module": "@jupyter-widgets/controls",
          "model_name": "DescriptionStyleModel",
          "state": {
            "_view_name": "StyleView",
            "_model_name": "DescriptionStyleModel",
            "description_width": "",
            "_view_module": "@jupyter-widgets/base",
            "_model_module_version": "1.5.0",
            "_view_count": null,
            "_view_module_version": "1.2.0",
            "_model_module": "@jupyter-widgets/controls"
          }
        },
        "a06f333f824b4358a72d2c26292c948e": {
          "model_module": "@jupyter-widgets/base",
          "model_name": "LayoutModel",
          "state": {
            "_view_name": "LayoutView",
            "grid_template_rows": null,
            "right": null,
            "justify_content": null,
            "_view_module": "@jupyter-widgets/base",
            "overflow": null,
            "_model_module_version": "1.2.0",
            "_view_count": null,
            "flex_flow": null,
            "width": null,
            "min_width": null,
            "border": null,
            "align_items": null,
            "bottom": null,
            "_model_module": "@jupyter-widgets/base",
            "top": null,
            "grid_column": null,
            "overflow_y": null,
            "overflow_x": null,
            "grid_auto_flow": null,
            "grid_area": null,
            "grid_template_columns": null,
            "flex": null,
            "_model_name": "LayoutModel",
            "justify_items": null,
            "grid_row": null,
            "max_height": null,
            "align_content": null,
            "visibility": null,
            "align_self": null,
            "height": null,
            "min_height": null,
            "padding": null,
            "grid_auto_rows": null,
            "grid_gap": null,
            "max_width": null,
            "order": null,
            "_view_module_version": "1.2.0",
            "grid_template_areas": null,
            "object_position": null,
            "object_fit": null,
            "grid_auto_columns": null,
            "margin": null,
            "display": null,
            "left": null
          }
        },
        "0f4afd42602040b89aa9dfcd9125980f": {
          "model_module": "@jupyter-widgets/controls",
          "model_name": "HBoxModel",
          "state": {
            "_view_name": "HBoxView",
            "_dom_classes": [],
            "_model_name": "HBoxModel",
            "_view_module": "@jupyter-widgets/controls",
            "_model_module_version": "1.5.0",
            "_view_count": null,
            "_view_module_version": "1.5.0",
            "box_style": "",
            "layout": "IPY_MODEL_41bb34b25b7b47608b83604de8ef37a5",
            "_model_module": "@jupyter-widgets/controls",
            "children": [
              "IPY_MODEL_f71de1ee77504ee1832d7e934a9c7903",
              "IPY_MODEL_5064cccf640040978a401951d66d6248"
            ]
          }
        },
        "41bb34b25b7b47608b83604de8ef37a5": {
          "model_module": "@jupyter-widgets/base",
          "model_name": "LayoutModel",
          "state": {
            "_view_name": "LayoutView",
            "grid_template_rows": null,
            "right": null,
            "justify_content": null,
            "_view_module": "@jupyter-widgets/base",
            "overflow": null,
            "_model_module_version": "1.2.0",
            "_view_count": null,
            "flex_flow": null,
            "width": null,
            "min_width": null,
            "border": null,
            "align_items": null,
            "bottom": null,
            "_model_module": "@jupyter-widgets/base",
            "top": null,
            "grid_column": null,
            "overflow_y": null,
            "overflow_x": null,
            "grid_auto_flow": null,
            "grid_area": null,
            "grid_template_columns": null,
            "flex": null,
            "_model_name": "LayoutModel",
            "justify_items": null,
            "grid_row": null,
            "max_height": null,
            "align_content": null,
            "visibility": null,
            "align_self": null,
            "height": null,
            "min_height": null,
            "padding": null,
            "grid_auto_rows": null,
            "grid_gap": null,
            "max_width": null,
            "order": null,
            "_view_module_version": "1.2.0",
            "grid_template_areas": null,
            "object_position": null,
            "object_fit": null,
            "grid_auto_columns": null,
            "margin": null,
            "display": null,
            "left": null
          }
        },
        "f71de1ee77504ee1832d7e934a9c7903": {
          "model_module": "@jupyter-widgets/controls",
          "model_name": "FloatProgressModel",
          "state": {
            "_view_name": "ProgressView",
            "style": "IPY_MODEL_5fdf799ea5894b1581833563c61a9ae0",
            "_dom_classes": [],
            "description": "",
            "_model_name": "FloatProgressModel",
            "bar_style": "success",
            "max": 1,
            "_view_module": "@jupyter-widgets/controls",
            "_model_module_version": "1.5.0",
            "value": 1,
            "_view_count": null,
            "_view_module_version": "1.5.0",
            "orientation": "horizontal",
            "min": 0,
            "description_tooltip": null,
            "_model_module": "@jupyter-widgets/controls",
            "layout": "IPY_MODEL_040d69f6a3a24deb8f114159fcd60e69"
          }
        },
        "5064cccf640040978a401951d66d6248": {
          "model_module": "@jupyter-widgets/controls",
          "model_name": "HTMLModel",
          "state": {
            "_view_name": "HTMLView",
            "style": "IPY_MODEL_2c7858bef6bc42c0b2ce8550ea2e228a",
            "_dom_classes": [],
            "description": "",
            "_model_name": "HTMLModel",
            "placeholder": "​",
            "_view_module": "@jupyter-widgets/controls",
            "_model_module_version": "1.5.0",
            "value": " 32768/? [00:01&lt;00:00, 21630.33it/s]",
            "_view_count": null,
            "_view_module_version": "1.5.0",
            "description_tooltip": null,
            "_model_module": "@jupyter-widgets/controls",
            "layout": "IPY_MODEL_c4597aa440e9447d974b14028f22d686"
          }
        },
        "5fdf799ea5894b1581833563c61a9ae0": {
          "model_module": "@jupyter-widgets/controls",
          "model_name": "ProgressStyleModel",
          "state": {
            "_view_name": "StyleView",
            "_model_name": "ProgressStyleModel",
            "description_width": "initial",
            "_view_module": "@jupyter-widgets/base",
            "_model_module_version": "1.5.0",
            "_view_count": null,
            "_view_module_version": "1.2.0",
            "bar_color": null,
            "_model_module": "@jupyter-widgets/controls"
          }
        },
        "040d69f6a3a24deb8f114159fcd60e69": {
          "model_module": "@jupyter-widgets/base",
          "model_name": "LayoutModel",
          "state": {
            "_view_name": "LayoutView",
            "grid_template_rows": null,
            "right": null,
            "justify_content": null,
            "_view_module": "@jupyter-widgets/base",
            "overflow": null,
            "_model_module_version": "1.2.0",
            "_view_count": null,
            "flex_flow": null,
            "width": null,
            "min_width": null,
            "border": null,
            "align_items": null,
            "bottom": null,
            "_model_module": "@jupyter-widgets/base",
            "top": null,
            "grid_column": null,
            "overflow_y": null,
            "overflow_x": null,
            "grid_auto_flow": null,
            "grid_area": null,
            "grid_template_columns": null,
            "flex": null,
            "_model_name": "LayoutModel",
            "justify_items": null,
            "grid_row": null,
            "max_height": null,
            "align_content": null,
            "visibility": null,
            "align_self": null,
            "height": null,
            "min_height": null,
            "padding": null,
            "grid_auto_rows": null,
            "grid_gap": null,
            "max_width": null,
            "order": null,
            "_view_module_version": "1.2.0",
            "grid_template_areas": null,
            "object_position": null,
            "object_fit": null,
            "grid_auto_columns": null,
            "margin": null,
            "display": null,
            "left": null
          }
        },
        "2c7858bef6bc42c0b2ce8550ea2e228a": {
          "model_module": "@jupyter-widgets/controls",
          "model_name": "DescriptionStyleModel",
          "state": {
            "_view_name": "StyleView",
            "_model_name": "DescriptionStyleModel",
            "description_width": "",
            "_view_module": "@jupyter-widgets/base",
            "_model_module_version": "1.5.0",
            "_view_count": null,
            "_view_module_version": "1.2.0",
            "_model_module": "@jupyter-widgets/controls"
          }
        },
        "c4597aa440e9447d974b14028f22d686": {
          "model_module": "@jupyter-widgets/base",
          "model_name": "LayoutModel",
          "state": {
            "_view_name": "LayoutView",
            "grid_template_rows": null,
            "right": null,
            "justify_content": null,
            "_view_module": "@jupyter-widgets/base",
            "overflow": null,
            "_model_module_version": "1.2.0",
            "_view_count": null,
            "flex_flow": null,
            "width": null,
            "min_width": null,
            "border": null,
            "align_items": null,
            "bottom": null,
            "_model_module": "@jupyter-widgets/base",
            "top": null,
            "grid_column": null,
            "overflow_y": null,
            "overflow_x": null,
            "grid_auto_flow": null,
            "grid_area": null,
            "grid_template_columns": null,
            "flex": null,
            "_model_name": "LayoutModel",
            "justify_items": null,
            "grid_row": null,
            "max_height": null,
            "align_content": null,
            "visibility": null,
            "align_self": null,
            "height": null,
            "min_height": null,
            "padding": null,
            "grid_auto_rows": null,
            "grid_gap": null,
            "max_width": null,
            "order": null,
            "_view_module_version": "1.2.0",
            "grid_template_areas": null,
            "object_position": null,
            "object_fit": null,
            "grid_auto_columns": null,
            "margin": null,
            "display": null,
            "left": null
          }
        },
        "c7810354cc0c47b5929c9ba6e98d79de": {
          "model_module": "@jupyter-widgets/controls",
          "model_name": "HBoxModel",
          "state": {
            "_view_name": "HBoxView",
            "_dom_classes": [],
            "_model_name": "HBoxModel",
            "_view_module": "@jupyter-widgets/controls",
            "_model_module_version": "1.5.0",
            "_view_count": null,
            "_view_module_version": "1.5.0",
            "box_style": "",
            "layout": "IPY_MODEL_309978ac754a4472bc3e384ffe9aeab7",
            "_model_module": "@jupyter-widgets/controls",
            "children": [
              "IPY_MODEL_45103887b68c4b519ec25df203038ae3",
              "IPY_MODEL_651251ace58c484294ef1f7d8b58f41a"
            ]
          }
        },
        "309978ac754a4472bc3e384ffe9aeab7": {
          "model_module": "@jupyter-widgets/base",
          "model_name": "LayoutModel",
          "state": {
            "_view_name": "LayoutView",
            "grid_template_rows": null,
            "right": null,
            "justify_content": null,
            "_view_module": "@jupyter-widgets/base",
            "overflow": null,
            "_model_module_version": "1.2.0",
            "_view_count": null,
            "flex_flow": null,
            "width": null,
            "min_width": null,
            "border": null,
            "align_items": null,
            "bottom": null,
            "_model_module": "@jupyter-widgets/base",
            "top": null,
            "grid_column": null,
            "overflow_y": null,
            "overflow_x": null,
            "grid_auto_flow": null,
            "grid_area": null,
            "grid_template_columns": null,
            "flex": null,
            "_model_name": "LayoutModel",
            "justify_items": null,
            "grid_row": null,
            "max_height": null,
            "align_content": null,
            "visibility": null,
            "align_self": null,
            "height": null,
            "min_height": null,
            "padding": null,
            "grid_auto_rows": null,
            "grid_gap": null,
            "max_width": null,
            "order": null,
            "_view_module_version": "1.2.0",
            "grid_template_areas": null,
            "object_position": null,
            "object_fit": null,
            "grid_auto_columns": null,
            "margin": null,
            "display": null,
            "left": null
          }
        },
        "45103887b68c4b519ec25df203038ae3": {
          "model_module": "@jupyter-widgets/controls",
          "model_name": "FloatProgressModel",
          "state": {
            "_view_name": "ProgressView",
            "style": "IPY_MODEL_87fd31f8a09140118b186dfac9f50bae",
            "_dom_classes": [],
            "description": "",
            "_model_name": "FloatProgressModel",
            "bar_style": "success",
            "max": 1,
            "_view_module": "@jupyter-widgets/controls",
            "_model_module_version": "1.5.0",
            "value": 1,
            "_view_count": null,
            "_view_module_version": "1.5.0",
            "orientation": "horizontal",
            "min": 0,
            "description_tooltip": null,
            "_model_module": "@jupyter-widgets/controls",
            "layout": "IPY_MODEL_834ca575b26a4c8bbf996c9425c0afe7"
          }
        },
        "651251ace58c484294ef1f7d8b58f41a": {
          "model_module": "@jupyter-widgets/controls",
          "model_name": "HTMLModel",
          "state": {
            "_view_name": "HTMLView",
            "style": "IPY_MODEL_5db25d7ddfda4ca8ab9d522d17275e30",
            "_dom_classes": [],
            "description": "",
            "_model_name": "HTMLModel",
            "placeholder": "​",
            "_view_module": "@jupyter-widgets/controls",
            "_model_module_version": "1.5.0",
            "value": " 1654784/? [00:01&lt;00:00, 1403280.16it/s]",
            "_view_count": null,
            "_view_module_version": "1.5.0",
            "description_tooltip": null,
            "_model_module": "@jupyter-widgets/controls",
            "layout": "IPY_MODEL_4a37880ff4764bee86e77950ee6fda65"
          }
        },
        "87fd31f8a09140118b186dfac9f50bae": {
          "model_module": "@jupyter-widgets/controls",
          "model_name": "ProgressStyleModel",
          "state": {
            "_view_name": "StyleView",
            "_model_name": "ProgressStyleModel",
            "description_width": "initial",
            "_view_module": "@jupyter-widgets/base",
            "_model_module_version": "1.5.0",
            "_view_count": null,
            "_view_module_version": "1.2.0",
            "bar_color": null,
            "_model_module": "@jupyter-widgets/controls"
          }
        },
        "834ca575b26a4c8bbf996c9425c0afe7": {
          "model_module": "@jupyter-widgets/base",
          "model_name": "LayoutModel",
          "state": {
            "_view_name": "LayoutView",
            "grid_template_rows": null,
            "right": null,
            "justify_content": null,
            "_view_module": "@jupyter-widgets/base",
            "overflow": null,
            "_model_module_version": "1.2.0",
            "_view_count": null,
            "flex_flow": null,
            "width": null,
            "min_width": null,
            "border": null,
            "align_items": null,
            "bottom": null,
            "_model_module": "@jupyter-widgets/base",
            "top": null,
            "grid_column": null,
            "overflow_y": null,
            "overflow_x": null,
            "grid_auto_flow": null,
            "grid_area": null,
            "grid_template_columns": null,
            "flex": null,
            "_model_name": "LayoutModel",
            "justify_items": null,
            "grid_row": null,
            "max_height": null,
            "align_content": null,
            "visibility": null,
            "align_self": null,
            "height": null,
            "min_height": null,
            "padding": null,
            "grid_auto_rows": null,
            "grid_gap": null,
            "max_width": null,
            "order": null,
            "_view_module_version": "1.2.0",
            "grid_template_areas": null,
            "object_position": null,
            "object_fit": null,
            "grid_auto_columns": null,
            "margin": null,
            "display": null,
            "left": null
          }
        },
        "5db25d7ddfda4ca8ab9d522d17275e30": {
          "model_module": "@jupyter-widgets/controls",
          "model_name": "DescriptionStyleModel",
          "state": {
            "_view_name": "StyleView",
            "_model_name": "DescriptionStyleModel",
            "description_width": "",
            "_view_module": "@jupyter-widgets/base",
            "_model_module_version": "1.5.0",
            "_view_count": null,
            "_view_module_version": "1.2.0",
            "_model_module": "@jupyter-widgets/controls"
          }
        },
        "4a37880ff4764bee86e77950ee6fda65": {
          "model_module": "@jupyter-widgets/base",
          "model_name": "LayoutModel",
          "state": {
            "_view_name": "LayoutView",
            "grid_template_rows": null,
            "right": null,
            "justify_content": null,
            "_view_module": "@jupyter-widgets/base",
            "overflow": null,
            "_model_module_version": "1.2.0",
            "_view_count": null,
            "flex_flow": null,
            "width": null,
            "min_width": null,
            "border": null,
            "align_items": null,
            "bottom": null,
            "_model_module": "@jupyter-widgets/base",
            "top": null,
            "grid_column": null,
            "overflow_y": null,
            "overflow_x": null,
            "grid_auto_flow": null,
            "grid_area": null,
            "grid_template_columns": null,
            "flex": null,
            "_model_name": "LayoutModel",
            "justify_items": null,
            "grid_row": null,
            "max_height": null,
            "align_content": null,
            "visibility": null,
            "align_self": null,
            "height": null,
            "min_height": null,
            "padding": null,
            "grid_auto_rows": null,
            "grid_gap": null,
            "max_width": null,
            "order": null,
            "_view_module_version": "1.2.0",
            "grid_template_areas": null,
            "object_position": null,
            "object_fit": null,
            "grid_auto_columns": null,
            "margin": null,
            "display": null,
            "left": null
          }
        },
        "c4697361380440a89413682a50502feb": {
          "model_module": "@jupyter-widgets/controls",
          "model_name": "HBoxModel",
          "state": {
            "_view_name": "HBoxView",
            "_dom_classes": [],
            "_model_name": "HBoxModel",
            "_view_module": "@jupyter-widgets/controls",
            "_model_module_version": "1.5.0",
            "_view_count": null,
            "_view_module_version": "1.5.0",
            "box_style": "",
            "layout": "IPY_MODEL_186e6bb5a67949b0ad861f794e439182",
            "_model_module": "@jupyter-widgets/controls",
            "children": [
              "IPY_MODEL_64337f73ab85404b919f5b5280b30313",
              "IPY_MODEL_d84facfcb58045458ca85e1dc137d088"
            ]
          }
        },
        "186e6bb5a67949b0ad861f794e439182": {
          "model_module": "@jupyter-widgets/base",
          "model_name": "LayoutModel",
          "state": {
            "_view_name": "LayoutView",
            "grid_template_rows": null,
            "right": null,
            "justify_content": null,
            "_view_module": "@jupyter-widgets/base",
            "overflow": null,
            "_model_module_version": "1.2.0",
            "_view_count": null,
            "flex_flow": null,
            "width": null,
            "min_width": null,
            "border": null,
            "align_items": null,
            "bottom": null,
            "_model_module": "@jupyter-widgets/base",
            "top": null,
            "grid_column": null,
            "overflow_y": null,
            "overflow_x": null,
            "grid_auto_flow": null,
            "grid_area": null,
            "grid_template_columns": null,
            "flex": null,
            "_model_name": "LayoutModel",
            "justify_items": null,
            "grid_row": null,
            "max_height": null,
            "align_content": null,
            "visibility": null,
            "align_self": null,
            "height": null,
            "min_height": null,
            "padding": null,
            "grid_auto_rows": null,
            "grid_gap": null,
            "max_width": null,
            "order": null,
            "_view_module_version": "1.2.0",
            "grid_template_areas": null,
            "object_position": null,
            "object_fit": null,
            "grid_auto_columns": null,
            "margin": null,
            "display": null,
            "left": null
          }
        },
        "64337f73ab85404b919f5b5280b30313": {
          "model_module": "@jupyter-widgets/controls",
          "model_name": "FloatProgressModel",
          "state": {
            "_view_name": "ProgressView",
            "style": "IPY_MODEL_99b8da6cc44d46249cc5412ec2b19751",
            "_dom_classes": [],
            "description": "",
            "_model_name": "FloatProgressModel",
            "bar_style": "success",
            "max": 1,
            "_view_module": "@jupyter-widgets/controls",
            "_model_module_version": "1.5.0",
            "value": 1,
            "_view_count": null,
            "_view_module_version": "1.5.0",
            "orientation": "horizontal",
            "min": 0,
            "description_tooltip": null,
            "_model_module": "@jupyter-widgets/controls",
            "layout": "IPY_MODEL_a9d5471dbaca4686ba9a49338a057773"
          }
        },
        "d84facfcb58045458ca85e1dc137d088": {
          "model_module": "@jupyter-widgets/controls",
          "model_name": "HTMLModel",
          "state": {
            "_view_name": "HTMLView",
            "style": "IPY_MODEL_da3ddf2ae5a94892af8ce7528b60f2c3",
            "_dom_classes": [],
            "description": "",
            "_model_name": "HTMLModel",
            "placeholder": "​",
            "_view_module": "@jupyter-widgets/controls",
            "_model_module_version": "1.5.0",
            "value": " 8192/? [00:00&lt;00:00, 17688.37it/s]",
            "_view_count": null,
            "_view_module_version": "1.5.0",
            "description_tooltip": null,
            "_model_module": "@jupyter-widgets/controls",
            "layout": "IPY_MODEL_82dae41b960744ee8b8e960a648fbff8"
          }
        },
        "99b8da6cc44d46249cc5412ec2b19751": {
          "model_module": "@jupyter-widgets/controls",
          "model_name": "ProgressStyleModel",
          "state": {
            "_view_name": "StyleView",
            "_model_name": "ProgressStyleModel",
            "description_width": "initial",
            "_view_module": "@jupyter-widgets/base",
            "_model_module_version": "1.5.0",
            "_view_count": null,
            "_view_module_version": "1.2.0",
            "bar_color": null,
            "_model_module": "@jupyter-widgets/controls"
          }
        },
        "a9d5471dbaca4686ba9a49338a057773": {
          "model_module": "@jupyter-widgets/base",
          "model_name": "LayoutModel",
          "state": {
            "_view_name": "LayoutView",
            "grid_template_rows": null,
            "right": null,
            "justify_content": null,
            "_view_module": "@jupyter-widgets/base",
            "overflow": null,
            "_model_module_version": "1.2.0",
            "_view_count": null,
            "flex_flow": null,
            "width": null,
            "min_width": null,
            "border": null,
            "align_items": null,
            "bottom": null,
            "_model_module": "@jupyter-widgets/base",
            "top": null,
            "grid_column": null,
            "overflow_y": null,
            "overflow_x": null,
            "grid_auto_flow": null,
            "grid_area": null,
            "grid_template_columns": null,
            "flex": null,
            "_model_name": "LayoutModel",
            "justify_items": null,
            "grid_row": null,
            "max_height": null,
            "align_content": null,
            "visibility": null,
            "align_self": null,
            "height": null,
            "min_height": null,
            "padding": null,
            "grid_auto_rows": null,
            "grid_gap": null,
            "max_width": null,
            "order": null,
            "_view_module_version": "1.2.0",
            "grid_template_areas": null,
            "object_position": null,
            "object_fit": null,
            "grid_auto_columns": null,
            "margin": null,
            "display": null,
            "left": null
          }
        },
        "da3ddf2ae5a94892af8ce7528b60f2c3": {
          "model_module": "@jupyter-widgets/controls",
          "model_name": "DescriptionStyleModel",
          "state": {
            "_view_name": "StyleView",
            "_model_name": "DescriptionStyleModel",
            "description_width": "",
            "_view_module": "@jupyter-widgets/base",
            "_model_module_version": "1.5.0",
            "_view_count": null,
            "_view_module_version": "1.2.0",
            "_model_module": "@jupyter-widgets/controls"
          }
        },
        "82dae41b960744ee8b8e960a648fbff8": {
          "model_module": "@jupyter-widgets/base",
          "model_name": "LayoutModel",
          "state": {
            "_view_name": "LayoutView",
            "grid_template_rows": null,
            "right": null,
            "justify_content": null,
            "_view_module": "@jupyter-widgets/base",
            "overflow": null,
            "_model_module_version": "1.2.0",
            "_view_count": null,
            "flex_flow": null,
            "width": null,
            "min_width": null,
            "border": null,
            "align_items": null,
            "bottom": null,
            "_model_module": "@jupyter-widgets/base",
            "top": null,
            "grid_column": null,
            "overflow_y": null,
            "overflow_x": null,
            "grid_auto_flow": null,
            "grid_area": null,
            "grid_template_columns": null,
            "flex": null,
            "_model_name": "LayoutModel",
            "justify_items": null,
            "grid_row": null,
            "max_height": null,
            "align_content": null,
            "visibility": null,
            "align_self": null,
            "height": null,
            "min_height": null,
            "padding": null,
            "grid_auto_rows": null,
            "grid_gap": null,
            "max_width": null,
            "order": null,
            "_view_module_version": "1.2.0",
            "grid_template_areas": null,
            "object_position": null,
            "object_fit": null,
            "grid_auto_columns": null,
            "margin": null,
            "display": null,
            "left": null
          }
        }
      }
    }
  },
  "cells": [
    {
      "cell_type": "code",
      "metadata": {
        "id": "ACg2tOA-eZEe",
        "colab_type": "code",
        "colab": {}
      },
      "source": [
        "import torch\n",
        "import torchvision\n",
        "from torchvision.transforms import ToTensor, Normalize, Compose\n",
        "from torchvision.datasets import MNIST"
      ],
      "execution_count": 1,
      "outputs": []
    },
    {
      "cell_type": "code",
      "metadata": {
        "id": "gAnMnKqxfrkW",
        "colab_type": "code",
        "colab": {
          "base_uri": "https://localhost:8080/",
          "height": 350,
          "referenced_widgets": [
            "7d4417cbd22849bb9ed94baeffe90519",
            "256974b5b97a401a8ba2e7c3c139e7e6",
            "8fd73a5f8c3c46899f4199d42327a858",
            "9cd1fdd5ff8e463d9247e5747ce78a63",
            "ee8bbbdd2ff947fab84e3a87cace9453",
            "6999a00f87d0442783e581b653c974eb",
            "22bb5f7583b6473cb52e81ececf19314",
            "a06f333f824b4358a72d2c26292c948e",
            "0f4afd42602040b89aa9dfcd9125980f",
            "41bb34b25b7b47608b83604de8ef37a5",
            "f71de1ee77504ee1832d7e934a9c7903",
            "5064cccf640040978a401951d66d6248",
            "5fdf799ea5894b1581833563c61a9ae0",
            "040d69f6a3a24deb8f114159fcd60e69",
            "2c7858bef6bc42c0b2ce8550ea2e228a",
            "c4597aa440e9447d974b14028f22d686",
            "c7810354cc0c47b5929c9ba6e98d79de",
            "309978ac754a4472bc3e384ffe9aeab7",
            "45103887b68c4b519ec25df203038ae3",
            "651251ace58c484294ef1f7d8b58f41a",
            "87fd31f8a09140118b186dfac9f50bae",
            "834ca575b26a4c8bbf996c9425c0afe7",
            "5db25d7ddfda4ca8ab9d522d17275e30",
            "4a37880ff4764bee86e77950ee6fda65",
            "c4697361380440a89413682a50502feb",
            "186e6bb5a67949b0ad861f794e439182",
            "64337f73ab85404b919f5b5280b30313",
            "d84facfcb58045458ca85e1dc137d088",
            "99b8da6cc44d46249cc5412ec2b19751",
            "a9d5471dbaca4686ba9a49338a057773",
            "da3ddf2ae5a94892af8ce7528b60f2c3",
            "82dae41b960744ee8b8e960a648fbff8"
          ]
        },
        "outputId": "e09bd65a-a8c7-4c27-f864-e0737f06843c"
      },
      "source": [
        "mnist = MNIST(root = 'data',\n",
        "              train = True,\n",
        "              download = True,\n",
        "              transform = Compose([ToTensor(),Normalize(mean = (0.5,), \n",
        "                                                        std = (0.5,))]))"
      ],
      "execution_count": 2,
      "outputs": [
        {
          "output_type": "stream",
          "text": [
            "Downloading http://yann.lecun.com/exdb/mnist/train-images-idx3-ubyte.gz to data/MNIST/raw/train-images-idx3-ubyte.gz\n"
          ],
          "name": "stdout"
        },
        {
          "output_type": "display_data",
          "data": {
            "application/vnd.jupyter.widget-view+json": {
              "model_id": "7d4417cbd22849bb9ed94baeffe90519",
              "version_minor": 0,
              "version_major": 2
            },
            "text/plain": [
              "HBox(children=(FloatProgress(value=1.0, bar_style='info', max=1.0), HTML(value='')))"
            ]
          },
          "metadata": {
            "tags": []
          }
        },
        {
          "output_type": "stream",
          "text": [
            "Extracting data/MNIST/raw/train-images-idx3-ubyte.gz to data/MNIST/raw\n",
            "Downloading http://yann.lecun.com/exdb/mnist/train-labels-idx1-ubyte.gz to data/MNIST/raw/train-labels-idx1-ubyte.gz\n"
          ],
          "name": "stdout"
        },
        {
          "output_type": "display_data",
          "data": {
            "application/vnd.jupyter.widget-view+json": {
              "model_id": "0f4afd42602040b89aa9dfcd9125980f",
              "version_minor": 0,
              "version_major": 2
            },
            "text/plain": [
              "HBox(children=(FloatProgress(value=1.0, bar_style='info', max=1.0), HTML(value='')))"
            ]
          },
          "metadata": {
            "tags": []
          }
        },
        {
          "output_type": "stream",
          "text": [
            "Extracting data/MNIST/raw/train-labels-idx1-ubyte.gz to data/MNIST/raw\n",
            "Downloading http://yann.lecun.com/exdb/mnist/t10k-images-idx3-ubyte.gz to data/MNIST/raw/t10k-images-idx3-ubyte.gz\n"
          ],
          "name": "stdout"
        },
        {
          "output_type": "display_data",
          "data": {
            "application/vnd.jupyter.widget-view+json": {
              "model_id": "c7810354cc0c47b5929c9ba6e98d79de",
              "version_minor": 0,
              "version_major": 2
            },
            "text/plain": [
              "HBox(children=(FloatProgress(value=1.0, bar_style='info', max=1.0), HTML(value='')))"
            ]
          },
          "metadata": {
            "tags": []
          }
        },
        {
          "output_type": "stream",
          "text": [
            "Extracting data/MNIST/raw/t10k-images-idx3-ubyte.gz to data/MNIST/raw\n",
            "Downloading http://yann.lecun.com/exdb/mnist/t10k-labels-idx1-ubyte.gz to data/MNIST/raw/t10k-labels-idx1-ubyte.gz\n"
          ],
          "name": "stdout"
        },
        {
          "output_type": "display_data",
          "data": {
            "application/vnd.jupyter.widget-view+json": {
              "model_id": "c4697361380440a89413682a50502feb",
              "version_minor": 0,
              "version_major": 2
            },
            "text/plain": [
              "HBox(children=(FloatProgress(value=1.0, bar_style='info', max=1.0), HTML(value='')))"
            ]
          },
          "metadata": {
            "tags": []
          }
        },
        {
          "output_type": "stream",
          "text": [
            "Extracting data/MNIST/raw/t10k-labels-idx1-ubyte.gz to data/MNIST/raw\n",
            "Processing...\n",
            "Done!\n"
          ],
          "name": "stdout"
        },
        {
          "output_type": "stream",
          "text": [
            "/pytorch/torch/csrc/utils/tensor_numpy.cpp:141: UserWarning: The given NumPy array is not writeable, and PyTorch does not support non-writeable tensors. This means you can write to the underlying (supposedly non-writeable) NumPy array using the tensor. You may want to copy the array to protect its data or make it writeable before converting it to a tensor. This type of warning will be suppressed for the rest of this program.\n"
          ],
          "name": "stderr"
        }
      ]
    },
    {
      "cell_type": "code",
      "metadata": {
        "id": "nJdfqD8Ngcns",
        "colab_type": "code",
        "colab": {
          "base_uri": "https://localhost:8080/",
          "height": 168
        },
        "outputId": "2ed557fe-97ed-4c0b-a50f-d7ab150ed22b"
      },
      "source": [
        "img, label = mnist[0]\n",
        "print(\"Label: \", label)\n",
        "print(img[:, 10:15, 10:15])\n",
        "torch.min(img), torch.max(img)"
      ],
      "execution_count": 3,
      "outputs": [
        {
          "output_type": "stream",
          "text": [
            "Label:  5\n",
            "tensor([[[-0.9922,  0.2078,  0.9843, -0.2941, -1.0000],\n",
            "         [-1.0000,  0.0902,  0.9843,  0.4902, -0.9843],\n",
            "         [-1.0000, -0.9137,  0.4902,  0.9843, -0.4510],\n",
            "         [-1.0000, -1.0000, -0.7255,  0.8902,  0.7647],\n",
            "         [-1.0000, -1.0000, -1.0000, -0.3647,  0.8824]]])\n",
            "\n",
            "\n"
          ],
          "name": "stdout"
        },
        {
          "output_type": "execute_result",
          "data": {
            "text/plain": [
              "(tensor(-1.), tensor(1.))"
            ]
          },
          "metadata": {
            "tags": []
          },
          "execution_count": 3
        }
      ]
    },
    {
      "cell_type": "code",
      "metadata": {
        "id": "7DfWDCgghhE7",
        "colab_type": "code",
        "colab": {}
      },
      "source": [
        "def denorm(x):\n",
        "  out = (x+1)/2\n",
        "  return out.clamp(0, 1)"
      ],
      "execution_count": 4,
      "outputs": []
    },
    {
      "cell_type": "code",
      "metadata": {
        "id": "ttxAtQJsh3F8",
        "colab_type": "code",
        "colab": {
          "base_uri": "https://localhost:8080/",
          "height": 34
        },
        "outputId": "68811668-1684-4e89-ad7d-7a0a1a267225"
      },
      "source": [
        "import matplotlib.pyplot as plt\n",
        "%matplotlib inline\n"
      ],
      "execution_count": 5,
      "outputs": [
        {
          "output_type": "stream",
          "text": [
            "\n"
          ],
          "name": "stdout"
        }
      ]
    },
    {
      "cell_type": "code",
      "metadata": {
        "id": "B15p_JiiiKkq",
        "colab_type": "code",
        "colab": {
          "base_uri": "https://localhost:8080/",
          "height": 282
        },
        "outputId": "4be6b2ff-3ead-4f88-ee0f-d5fa4c9b03d3"
      },
      "source": [
        "img_norm = denorm(img)\n",
        "plt.imshow(img_norm[0], cmap = \"gray\")\n",
        "print('Label:', label)"
      ],
      "execution_count": 6,
      "outputs": [
        {
          "output_type": "stream",
          "text": [
            "Label: 5\n"
          ],
          "name": "stdout"
        },
        {
          "output_type": "display_data",
          "data": {
            "image/png": "[encoded data removed]",
            "text/plain": [
              "<Figure size 432x288 with 1 Axes>"
            ]
          },
          "metadata": {
            "tags": [],
            "needs_background": "light"
          }
        }
      ]
    },
    {
      "cell_type": "code",
      "metadata": {
        "id": "kZ332OUciVaf",
        "colab_type": "code",
        "colab": {}
      },
      "source": [
        "from torch.utils.data import DataLoader"
      ],
      "execution_count": 7,
      "outputs": []
    },
    {
      "cell_type": "code",
      "metadata": {
        "id": "BDjXqavSid-z",
        "colab_type": "code",
        "colab": {}
      },
      "source": [
        "batch_size = 100\n",
        "data_loader = DataLoader(mnist, batch_size, shuffle = True)"
      ],
      "execution_count": 8,
      "outputs": []
    },
    {
      "cell_type": "code",
      "metadata": {
        "id": "ewXQwVt6iiwJ",
        "colab_type": "code",
        "colab": {
          "base_uri": "https://localhost:8080/",
          "height": 382
        },
        "outputId": "e5c06356-e53c-4d8a-9d64-1e3b4889af7a"
      },
      "source": [
        "for img_batch, label_batch in data_loader:\n",
        "  print('First Batch')\n",
        "  print(img_batch.shape)\n",
        "  plt.imshow(img_batch[0][0], cmap = 'gray')\n",
        "  print(label_batch)\n",
        "  break"
      ],
      "execution_count": 9,
      "outputs": [
        {
          "output_type": "stream",
          "text": [
            "First Batch\n",
            "torch.Size([100, 1, 28, 28])\n",
            "tensor([3, 4, 5, 9, 9, 6, 2, 1, 1, 2, 6, 9, 0, 0, 0, 0, 9, 7, 4, 0, 6, 3, 7, 7,\n",
            "        5, 0, 3, 1, 2, 7, 0, 1, 5, 2, 8, 6, 1, 3, 4, 6, 5, 0, 4, 9, 3, 6, 9, 0,\n",
            "        2, 2, 0, 9, 1, 9, 9, 7, 0, 8, 9, 2, 3, 3, 6, 0, 3, 6, 5, 9, 8, 7, 7, 8,\n",
            "        4, 5, 0, 0, 0, 4, 2, 5, 7, 0, 8, 7, 6, 7, 0, 0, 1, 4, 1, 1, 2, 1, 8, 3,\n",
            "        6, 1, 2, 5])\n"
          ],
          "name": "stdout"
        },
        {
          "output_type": "display_data",
          "data": {
            "image/png": "[encoded data removed]",
            "text/plain": [
              "<Figure size 432x288 with 1 Axes>"
            ]
          },
          "metadata": {
            "tags": [],
            "needs_background": "light"
          }
        }
      ]
    },
    {
      "cell_type": "code",
      "metadata": {
        "id": "cDCPb-Aui17P",
        "colab_type": "code",
        "colab": {}
      },
      "source": [
        "device = torch.device('cuda' if torch.cuda.is_available() else 'cpu')"
      ],
      "execution_count": 10,
      "outputs": []
    },
    {
      "cell_type": "code",
      "metadata": {
        "id": "rOEuB1QBjTjw",
        "colab_type": "code",
        "colab": {
          "base_uri": "https://localhost:8080/",
          "height": 34
        },
        "outputId": "3f812eef-77a0-4331-f6c5-049628b2805a"
      },
      "source": [
        "device"
      ],
      "execution_count": 11,
      "outputs": [
        {
          "output_type": "execute_result",
          "data": {
            "text/plain": [
              "device(type='cuda')"
            ]
          },
          "metadata": {
            "tags": []
          },
          "execution_count": 11
        }
      ]
    },
    {
      "cell_type": "markdown",
      "metadata": {
        "id": "se1-oCnwjaar",
        "colab_type": "text"
      },
      "source": [
        "## Discriminator Network"
      ]
    },
    {
      "cell_type": "code",
      "metadata": {
        "id": "o6_7hkntjUd1",
        "colab_type": "code",
        "colab": {}
      },
      "source": [
        "image_size = 784\n",
        "hidden_size = 256 #Can experiment this"
      ],
      "execution_count": 12,
      "outputs": []
    },
    {
      "cell_type": "code",
      "metadata": {
        "id": "HKdMfyWUjhjj",
        "colab_type": "code",
        "colab": {}
      },
      "source": [
        "import torch.nn as nn"
      ],
      "execution_count": 13,
      "outputs": []
    },
    {
      "cell_type": "code",
      "metadata": {
        "id": "9rAl_W5Zju36",
        "colab_type": "code",
        "colab": {}
      },
      "source": [
        "D = nn.Sequential(\n",
        "    nn.Linear(image_size, hidden_size),\n",
        "    nn.LeakyReLU(0.2),\n",
        "    nn.Linear(hidden_size, hidden_size),\n",
        "    nn.LeakyReLU(0.2),\n",
        "    nn.Linear(hidden_size, 1),\n",
        "    nn.Sigmoid() #Spits values fromm 0 to 1\n",
        "    )"
      ],
      "execution_count": 14,
      "outputs": []
    },
    {
      "cell_type": "code",
      "metadata": {
        "id": "6TsEZHcvkA3J",
        "colab_type": "code",
        "colab": {
          "base_uri": "https://localhost:8080/",
          "height": 151
        },
        "outputId": "3f518392-70e7-4138-aefa-dcde8042d3f8"
      },
      "source": [
        "D.to(device)"
      ],
      "execution_count": 15,
      "outputs": [
        {
          "output_type": "execute_result",
          "data": {
            "text/plain": [
              "Sequential(\n",
              "  (0): Linear(in_features=784, out_features=256, bias=True)\n",
              "  (1): LeakyReLU(negative_slope=0.2)\n",
              "  (2): Linear(in_features=256, out_features=256, bias=True)\n",
              "  (3): LeakyReLU(negative_slope=0.2)\n",
              "  (4): Linear(in_features=256, out_features=1, bias=True)\n",
              "  (5): Sigmoid()\n",
              ")"
            ]
          },
          "metadata": {
            "tags": []
          },
          "execution_count": 15
        }
      ]
    },
    {
      "cell_type": "markdown",
      "metadata": {
        "id": "9BWvMrbvkkSa",
        "colab_type": "text"
      },
      "source": [
        "## Generator Network"
      ]
    },
    {
      "cell_type": "markdown",
      "metadata": {
        "id": "8r8LOm1Kkmv3",
        "colab_type": "text"
      },
      "source": [
        "Input to the generator is usually a vector or a matrix which is usually a seed for generating an image.\n",
        "\n",
        "We give a random input and based on that the generator gives a random output"
      ]
    },
    {
      "cell_type": "code",
      "metadata": {
        "id": "thMUMQbRkfLq",
        "colab_type": "code",
        "colab": {}
      },
      "source": [
        "latent_size = 64 #Random Size"
      ],
      "execution_count": 16,
      "outputs": []
    },
    {
      "cell_type": "code",
      "metadata": {
        "id": "IbeZx8rPk4yw",
        "colab_type": "code",
        "colab": {}
      },
      "source": [
        "#Simple Feedforward Neural Network\n",
        "\n",
        "G = nn.Sequential(\n",
        "    nn.Linear(latent_size, hidden_size),\n",
        "    nn.ReLU(),\n",
        "    nn.Linear(hidden_size, hidden_size),\n",
        "    nn.ReLU(),\n",
        "    nn.Linear(hidden_size, hidden_size),\n",
        "    nn.ReLU(),\n",
        "    nn.Linear(hidden_size, image_size),\n",
        "    nn.Tanh(), #This activation spits values from -1 to 1 \n",
        ")"
      ],
      "execution_count": 17,
      "outputs": []
    },
    {
      "cell_type": "code",
      "metadata": {
        "id": "1GicHHVGmC3R",
        "colab_type": "code",
        "colab": {
          "base_uri": "https://localhost:8080/",
          "height": 185
        },
        "outputId": "523a06d9-c599-437b-a2e3-6fcd296980bd"
      },
      "source": [
        "G"
      ],
      "execution_count": 18,
      "outputs": [
        {
          "output_type": "execute_result",
          "data": {
            "text/plain": [
              "Sequential(\n",
              "  (0): Linear(in_features=64, out_features=256, bias=True)\n",
              "  (1): ReLU()\n",
              "  (2): Linear(in_features=256, out_features=256, bias=True)\n",
              "  (3): ReLU()\n",
              "  (4): Linear(in_features=256, out_features=256, bias=True)\n",
              "  (5): ReLU()\n",
              "  (6): Linear(in_features=256, out_features=784, bias=True)\n",
              "  (7): Tanh()\n",
              ")"
            ]
          },
          "metadata": {
            "tags": []
          },
          "execution_count": 18
        }
      ]
    },
    {
      "cell_type": "code",
      "metadata": {
        "id": "7S8nOEiRk7OQ",
        "colab_type": "code",
        "colab": {}
      },
      "source": [
        "y = G(torch.randn(2, latent_size))\n",
        "gen_imgs = denorm(y.reshape((-1,28,28)).detach())"
      ],
      "execution_count": 19,
      "outputs": []
    },
    {
      "cell_type": "code",
      "metadata": {
        "id": "0piRZ2TFmbIy",
        "colab_type": "code",
        "colab": {
          "base_uri": "https://localhost:8080/",
          "height": 282
        },
        "outputId": "88c6a27e-3ab9-4652-ef39-affa38e08bac"
      },
      "source": [
        "plt.imshow(gen_imgs[0], cmap = 'gray')"
      ],
      "execution_count": 20,
      "outputs": [
        {
          "output_type": "execute_result",
          "data": {
            "text/plain": [
              "<matplotlib.image.AxesImage at 0x7feddae44630>"
            ]
          },
          "metadata": {
            "tags": []
          },
          "execution_count": 20
        },
        {
          "output_type": "display_data",
          "data": {
            "image/png": "[encoded data removed]",
            "text/plain": [
              "<Figure size 432x288 with 1 Axes>"
            ]
          },
          "metadata": {
            "tags": [],
            "needs_background": "light"
          }
        }
      ]
    },
    {
      "cell_type": "code",
      "metadata": {
        "id": "PSAGKK7KnQSt",
        "colab_type": "code",
        "colab": {
          "base_uri": "https://localhost:8080/",
          "height": 282
        },
        "outputId": "b68aec41-9c79-4d9d-b1b9-8a0bf73b176a"
      },
      "source": [
        "plt.imshow(gen_imgs[1], cmap = 'gray')"
      ],
      "execution_count": 21,
      "outputs": [
        {
          "output_type": "execute_result",
          "data": {
            "text/plain": [
              "<matplotlib.image.AxesImage at 0x7feddaf76748>"
            ]
          },
          "metadata": {
            "tags": []
          },
          "execution_count": 21
        },
        {
          "output_type": "display_data",
          "data": {
            "image/png": "[encoded data removed]",
            "text/plain": [
              "<Figure size 432x288 with 1 Axes>"
            ]
          },
          "metadata": {
            "tags": [],
            "needs_background": "light"
          }
        }
      ]
    },
    {
      "cell_type": "code",
      "metadata": {
        "id": "FfH_pKeEnnEU",
        "colab_type": "code",
        "colab": {
          "base_uri": "https://localhost:8080/",
          "height": 185
        },
        "outputId": "6987f9ce-d213-4312-c3e0-229e9b9c0d21"
      },
      "source": [
        "G.to(device)"
      ],
      "execution_count": 22,
      "outputs": [
        {
          "output_type": "execute_result",
          "data": {
            "text/plain": [
              "Sequential(\n",
              "  (0): Linear(in_features=64, out_features=256, bias=True)\n",
              "  (1): ReLU()\n",
              "  (2): Linear(in_features=256, out_features=256, bias=True)\n",
              "  (3): ReLU()\n",
              "  (4): Linear(in_features=256, out_features=256, bias=True)\n",
              "  (5): ReLU()\n",
              "  (6): Linear(in_features=256, out_features=784, bias=True)\n",
              "  (7): Tanh()\n",
              ")"
            ]
          },
          "metadata": {
            "tags": []
          },
          "execution_count": 22
        }
      ]
    },
    {
      "cell_type": "markdown",
      "metadata": {
        "id": "TN9ZMTgnxL_b",
        "colab_type": "text"
      },
      "source": [
        "## Discriminator Training"
      ]
    },
    {
      "cell_type": "code",
      "metadata": {
        "id": "dudAogfvwKjf",
        "colab_type": "code",
        "colab": {}
      },
      "source": [
        "# Binary Cross Entropy"
      ],
      "execution_count": 23,
      "outputs": []
    },
    {
      "cell_type": "code",
      "metadata": {
        "id": "JAGoVmgmxP-Q",
        "colab_type": "code",
        "colab": {}
      },
      "source": [
        "criterion = nn.BCELoss()\n",
        "d_optimizer = torch.optim.Adam(D.parameters(), lr = 0.0002)\n",
        "g_optimizer = torch.optim.Adam(G.parameters(), lr = 0.0002)"
      ],
      "execution_count": 24,
      "outputs": []
    },
    {
      "cell_type": "code",
      "metadata": {
        "id": "CZOugk8Jxb4w",
        "colab_type": "code",
        "colab": {}
      },
      "source": [
        "def reset_grad():\n",
        "  d_optimizer.zero_grad()\n",
        "  g_optimizer.zero_grad()"
      ],
      "execution_count": 25,
      "outputs": []
    },
    {
      "cell_type": "code",
      "metadata": {
        "id": "j9x9gEWwx7ya",
        "colab_type": "code",
        "colab": {}
      },
      "source": [
        "def train_discrimination(images):\n",
        "  real_labels = torch.ones(batch_size, 1).to(device)\n",
        "  fake_labels = torch.zeros(batch_size, 1).to(device)\n",
        "\n",
        "  outputs = D(images)\n",
        "  d_loss_real = criterion(outputs, real_labels)\n",
        "  real_score = outputs\n",
        "\n",
        "  z = torch.randn(batch_size, latent_size).to(device)\n",
        "  fake_images = G(z)\n",
        "  outputs = D(fake_images)\n",
        "  d_loss_fake = criterion(outputs, fake_labels)\n",
        "  fake_score = outputs\n",
        "\n",
        "  d_loss = d_loss_real + d_loss_fake\n",
        "  reset_grad()\n",
        "  d_loss.backward()\n",
        "  d_optimizer.step()\n",
        "  return d_loss, real_score, fake_score"
      ],
      "execution_count": 26,
      "outputs": []
    },
    {
      "cell_type": "markdown",
      "metadata": {
        "id": "pnxqS5XA0FhA",
        "colab_type": "text"
      },
      "source": [
        "##Generator Training"
      ]
    },
    {
      "cell_type": "code",
      "metadata": {
        "id": "c8jX9slIzq34",
        "colab_type": "code",
        "colab": {}
      },
      "source": [
        "def train_generator():\n",
        "  z = torch.randn(batch_size, latent_size).to(device)\n",
        "  fake_images = G(z)\n",
        "  labels = torch.ones(batch_size, 1).to(device)\n",
        "  g_loss = criterion(D(fake_images), labels)\n",
        "\n",
        "  reset_grad()\n",
        "  g_loss.backward()\n",
        "  g_optimizer.step()\n",
        "  return g_loss, fake_images"
      ],
      "execution_count": 27,
      "outputs": []
    },
    {
      "cell_type": "markdown",
      "metadata": {
        "id": "dNAcmPdm1W_f",
        "colab_type": "text"
      },
      "source": [
        "## Training Model"
      ]
    },
    {
      "cell_type": "code",
      "metadata": {
        "id": "dmHtapBW1WC7",
        "colab_type": "code",
        "colab": {}
      },
      "source": [
        "import os\n",
        "\n",
        "sample_dir = 'samples'\n",
        "if not os.path.exists(sample_dir):\n",
        "  os.makedirs(sample_dir)"
      ],
      "execution_count": 28,
      "outputs": []
    },
    {
      "cell_type": "code",
      "metadata": {
        "id": "zSyabFyL1s8g",
        "colab_type": "code",
        "colab": {}
      },
      "source": [
        "from IPython.display import Image\n",
        "from torchvision.utils import save_image"
      ],
      "execution_count": 29,
      "outputs": []
    },
    {
      "cell_type": "code",
      "metadata": {
        "id": "rFtIgsua11Vh",
        "colab_type": "code",
        "colab": {}
      },
      "source": [
        "for images, _ in data_loader:\n",
        "  images = images.reshape(images.size(0), 1, 28, 28)\n",
        "  save_image(denorm(images), os.path.join(sample_dir, \"real_images.png\"), nrow = 10)\n",
        "  break"
      ],
      "execution_count": 30,
      "outputs": []
    },
    {
      "cell_type": "code",
      "metadata": {
        "id": "DICCOl4C2LFz",
        "colab_type": "code",
        "colab": {
          "base_uri": "https://localhost:8080/",
          "height": 319
        },
        "outputId": "fb682217-1258-4ed3-8cf6-9773d98b3e4d"
      },
      "source": [
        "Image(os.path.join(sample_dir, 'real_images.png'))"
      ],
      "execution_count": 31,
      "outputs": [
        {
          "output_type": "execute_result",
          "data": {
            "image/png": "[encoded data removed]",
            "text/plain": [
              "<IPython.core.display.Image object>"
            ]
          },
          "metadata": {
            "tags": []
          },
          "execution_count": 31
        }
      ]
    },
    {
      "cell_type": "code",
      "metadata": {
        "id": "r_ls3qmf2PpB",
        "colab_type": "code",
        "colab": {}
      },
      "source": [
        "sample_vectors = torch.randn(batch_size, latent_size).to(device)"
      ],
      "execution_count": 32,
      "outputs": []
    },
    {
      "cell_type": "code",
      "metadata": {
        "id": "UTj2fd5P2sfM",
        "colab_type": "code",
        "colab": {}
      },
      "source": [
        "def save_fake_images(index):\n",
        "  fake_images = G(sample_vectors)\n",
        "  fake_images = fake_images.reshape(fake_images.size(0), 1, 28, 28)\n",
        "  fake_fname = 'fake_images-{0:0=4d}.png'.format(index)\n",
        "  print('Saving', fake_fname)\n",
        "  save_image(denorm(fake_images), os.path.join(sample_dir, fake_fname), nrow = 10)"
      ],
      "execution_count": 33,
      "outputs": []
    },
    {
      "cell_type": "code",
      "metadata": {
        "id": "H-URKOg23fPd",
        "colab_type": "code",
        "colab": {
          "base_uri": "https://localhost:8080/",
          "height": 336
        },
        "outputId": "147b8d50-52a1-48bd-8799-638209ffb574"
      },
      "source": [
        "save_fake_images(0)\n",
        "Image(os.path.join(sample_dir, 'fake_images-0000.png'))"
      ],
      "execution_count": 34,
      "outputs": [
        {
          "output_type": "stream",
          "text": [
            "Saving fake_images-0000.png\n"
          ],
          "name": "stdout"
        },
        {
          "output_type": "execute_result",
          "data": {
            "image/png": "[encoded data removed]",
            "text/plain": [
              "<IPython.core.display.Image object>"
            ]
          },
          "metadata": {
            "tags": []
          },
          "execution_count": 34
        }
      ]
    },
    {
      "cell_type": "code",
      "metadata": {
        "id": "V42Dw2_O3nsT",
        "colab_type": "code",
        "colab": {
          "base_uri": "https://localhost:8080/",
          "height": 1000
        },
        "outputId": "a32208de-3ab5-4516-bc79-c70311eff509"
      },
      "source": [
        "%%time\n",
        "\n",
        "num_epochs = 100\n",
        "total_step = len(data_loader)\n",
        "d_losses, g_losses, real_scores, fake_scores = [], [], [], []\n",
        "\n",
        "for epoch in range(num_epochs):\n",
        "    for i, (images, _) in enumerate(data_loader):\n",
        "        # Load a batch & transform to vectors\n",
        "        images = images.reshape(batch_size, -1).to(device)\n",
        "        \n",
        "        # Train the discriminator and generator\n",
        "        d_loss, real_score, fake_score = train_discrimination(images)\n",
        "        g_loss, fake_images = train_generator()\n",
        "        \n",
        "        # Inspect the losses\n",
        "        if (i+1) % 200 == 0:\n",
        "            d_losses.append(d_loss.item())\n",
        "            g_losses.append(g_loss.item())\n",
        "            real_scores.append(real_score.mean().item())\n",
        "            fake_scores.append(fake_score.mean().item())\n",
        "            print('Epoch [{}/{}], Step [{}/{}], d_loss: {:.4f}, g_loss: {:.4f}, D(x): {:.2f}, D(G(z)): {:.2f}' \n",
        "                  .format(epoch, num_epochs, i+1, total_step, d_loss.item(), g_loss.item(), \n",
        "                          real_score.mean().item(), fake_score.mean().item()))\n",
        "        \n",
        "    # Sample and save images\n",
        "    save_fake_images(epoch+1)"
      ],
      "execution_count": 35,
      "outputs": [
        {
          "output_type": "stream",
          "text": [
            "Epoch [0/100], Step [200/600], d_loss: 0.1612, g_loss: 2.4586, D(x): 0.98, D(G(z)): 0.13\n",
            "Epoch [0/100], Step [400/600], d_loss: 0.1187, g_loss: 4.3279, D(x): 0.98, D(G(z)): 0.09\n",
            "Epoch [0/100], Step [600/600], d_loss: 0.3172, g_loss: 4.7183, D(x): 0.93, D(G(z)): 0.20\n",
            "Saving fake_images-0001.png\n",
            "Epoch [1/100], Step [200/600], d_loss: 0.0498, g_loss: 5.9070, D(x): 0.98, D(G(z)): 0.03\n",
            "Epoch [1/100], Step [400/600], d_loss: 0.1603, g_loss: 4.2701, D(x): 0.92, D(G(z)): 0.05\n",
            "Epoch [1/100], Step [600/600], d_loss: 0.3713, g_loss: 3.1104, D(x): 0.93, D(G(z)): 0.24\n",
            "Saving fake_images-0002.png\n",
            "Epoch [2/100], Step [200/600], d_loss: 0.3656, g_loss: 2.9719, D(x): 0.88, D(G(z)): 0.15\n",
            "Epoch [2/100], Step [400/600], d_loss: 0.5766, g_loss: 3.3091, D(x): 0.85, D(G(z)): 0.26\n",
            "Epoch [2/100], Step [600/600], d_loss: 1.1842, g_loss: 2.3751, D(x): 0.60, D(G(z)): 0.22\n",
            "Saving fake_images-0003.png\n",
            "Epoch [3/100], Step [200/600], d_loss: 1.3300, g_loss: 3.5087, D(x): 0.70, D(G(z)): 0.35\n",
            "Epoch [3/100], Step [400/600], d_loss: 0.5779, g_loss: 2.6606, D(x): 0.77, D(G(z)): 0.17\n",
            "Epoch [3/100], Step [600/600], d_loss: 0.4454, g_loss: 2.5338, D(x): 0.83, D(G(z)): 0.17\n",
            "Saving fake_images-0004.png\n",
            "Epoch [4/100], Step [200/600], d_loss: 1.9619, g_loss: 1.1324, D(x): 0.46, D(G(z)): 0.41\n",
            "Epoch [4/100], Step [400/600], d_loss: 1.5957, g_loss: 1.7273, D(x): 0.48, D(G(z)): 0.40\n",
            "Epoch [4/100], Step [600/600], d_loss: 2.0638, g_loss: 0.9138, D(x): 0.43, D(G(z)): 0.55\n",
            "Saving fake_images-0005.png\n",
            "Epoch [5/100], Step [200/600], d_loss: 0.7968, g_loss: 1.7633, D(x): 0.75, D(G(z)): 0.31\n",
            "Epoch [5/100], Step [400/600], d_loss: 1.8695, g_loss: 1.6339, D(x): 0.47, D(G(z)): 0.39\n",
            "Epoch [5/100], Step [600/600], d_loss: 0.4426, g_loss: 2.6863, D(x): 0.83, D(G(z)): 0.15\n",
            "Saving fake_images-0006.png\n",
            "Epoch [6/100], Step [200/600], d_loss: 0.6708, g_loss: 2.6260, D(x): 0.82, D(G(z)): 0.26\n",
            "Epoch [6/100], Step [400/600], d_loss: 0.6655, g_loss: 2.4916, D(x): 0.80, D(G(z)): 0.23\n",
            "Epoch [6/100], Step [600/600], d_loss: 0.7507, g_loss: 1.8514, D(x): 0.76, D(G(z)): 0.20\n",
            "Saving fake_images-0007.png\n",
            "Epoch [7/100], Step [200/600], d_loss: 0.5977, g_loss: 2.0827, D(x): 0.81, D(G(z)): 0.22\n",
            "Epoch [7/100], Step [400/600], d_loss: 1.1784, g_loss: 1.7845, D(x): 0.68, D(G(z)): 0.30\n",
            "Epoch [7/100], Step [600/600], d_loss: 0.5206, g_loss: 2.5518, D(x): 0.83, D(G(z)): 0.15\n",
            "Saving fake_images-0008.png\n",
            "Epoch [8/100], Step [200/600], d_loss: 0.3769, g_loss: 2.7198, D(x): 0.87, D(G(z)): 0.15\n",
            "Epoch [8/100], Step [400/600], d_loss: 0.3883, g_loss: 2.3544, D(x): 0.90, D(G(z)): 0.18\n",
            "Epoch [8/100], Step [600/600], d_loss: 0.4470, g_loss: 3.2052, D(x): 0.86, D(G(z)): 0.12\n",
            "Saving fake_images-0009.png\n",
            "Epoch [9/100], Step [200/600], d_loss: 0.4471, g_loss: 2.4727, D(x): 0.85, D(G(z)): 0.13\n",
            "Epoch [9/100], Step [400/600], d_loss: 0.5616, g_loss: 2.8759, D(x): 0.82, D(G(z)): 0.09\n",
            "Epoch [9/100], Step [600/600], d_loss: 1.0798, g_loss: 3.4159, D(x): 0.71, D(G(z)): 0.11\n",
            "Saving fake_images-0010.png\n",
            "Epoch [10/100], Step [200/600], d_loss: 0.6008, g_loss: 3.0515, D(x): 0.83, D(G(z)): 0.23\n",
            "Epoch [10/100], Step [400/600], d_loss: 0.6282, g_loss: 2.4191, D(x): 0.80, D(G(z)): 0.21\n",
            "Epoch [10/100], Step [600/600], d_loss: 1.7386, g_loss: 1.0635, D(x): 0.55, D(G(z)): 0.35\n",
            "Saving fake_images-0011.png\n",
            "Epoch [11/100], Step [200/600], d_loss: 0.7568, g_loss: 2.2263, D(x): 0.76, D(G(z)): 0.25\n",
            "Epoch [11/100], Step [400/600], d_loss: 0.8413, g_loss: 1.9695, D(x): 0.79, D(G(z)): 0.30\n",
            "Epoch [11/100], Step [600/600], d_loss: 0.8590, g_loss: 2.0173, D(x): 0.76, D(G(z)): 0.31\n",
            "Saving fake_images-0012.png\n",
            "Epoch [12/100], Step [200/600], d_loss: 0.7518, g_loss: 2.5595, D(x): 0.75, D(G(z)): 0.24\n",
            "Epoch [12/100], Step [400/600], d_loss: 0.1550, g_loss: 3.2811, D(x): 0.94, D(G(z)): 0.07\n",
            "Epoch [12/100], Step [600/600], d_loss: 0.6287, g_loss: 2.6429, D(x): 0.85, D(G(z)): 0.25\n",
            "Saving fake_images-0013.png\n",
            "Epoch [13/100], Step [200/600], d_loss: 0.8076, g_loss: 2.8009, D(x): 0.80, D(G(z)): 0.12\n",
            "Epoch [13/100], Step [400/600], d_loss: 0.3635, g_loss: 3.9440, D(x): 0.89, D(G(z)): 0.10\n",
            "Epoch [13/100], Step [600/600], d_loss: 0.3460, g_loss: 3.1555, D(x): 0.92, D(G(z)): 0.16\n",
            "Saving fake_images-0014.png\n",
            "Epoch [14/100], Step [200/600], d_loss: 0.1530, g_loss: 4.5487, D(x): 0.97, D(G(z)): 0.09\n",
            "Epoch [14/100], Step [400/600], d_loss: 0.2152, g_loss: 4.0504, D(x): 0.96, D(G(z)): 0.12\n",
            "Epoch [14/100], Step [600/600], d_loss: 1.0480, g_loss: 3.0268, D(x): 0.78, D(G(z)): 0.20\n",
            "Saving fake_images-0015.png\n",
            "Epoch [15/100], Step [200/600], d_loss: 0.7663, g_loss: 3.0485, D(x): 0.76, D(G(z)): 0.12\n",
            "Epoch [15/100], Step [400/600], d_loss: 0.4923, g_loss: 6.1768, D(x): 0.87, D(G(z)): 0.08\n",
            "Epoch [15/100], Step [600/600], d_loss: 0.4656, g_loss: 3.0159, D(x): 0.93, D(G(z)): 0.23\n",
            "Saving fake_images-0016.png\n",
            "Epoch [16/100], Step [200/600], d_loss: 0.5805, g_loss: 3.1261, D(x): 0.88, D(G(z)): 0.21\n",
            "Epoch [16/100], Step [400/600], d_loss: 0.6052, g_loss: 3.8571, D(x): 0.80, D(G(z)): 0.07\n",
            "Epoch [16/100], Step [600/600], d_loss: 0.6359, g_loss: 2.0364, D(x): 0.85, D(G(z)): 0.22\n",
            "Saving fake_images-0017.png\n",
            "Epoch [17/100], Step [200/600], d_loss: 0.4005, g_loss: 3.8878, D(x): 0.86, D(G(z)): 0.05\n",
            "Epoch [17/100], Step [400/600], d_loss: 0.4557, g_loss: 3.7969, D(x): 0.89, D(G(z)): 0.19\n",
            "Epoch [17/100], Step [600/600], d_loss: 0.3543, g_loss: 4.3659, D(x): 0.87, D(G(z)): 0.06\n",
            "Saving fake_images-0018.png\n",
            "Epoch [18/100], Step [200/600], d_loss: 0.4176, g_loss: 3.2768, D(x): 0.92, D(G(z)): 0.22\n",
            "Epoch [18/100], Step [400/600], d_loss: 0.4129, g_loss: 3.4863, D(x): 0.88, D(G(z)): 0.09\n",
            "Epoch [18/100], Step [600/600], d_loss: 0.4175, g_loss: 4.2101, D(x): 0.87, D(G(z)): 0.11\n",
            "Saving fake_images-0019.png\n",
            "Epoch [19/100], Step [200/600], d_loss: 0.6119, g_loss: 3.5430, D(x): 0.88, D(G(z)): 0.27\n",
            "Epoch [19/100], Step [400/600], d_loss: 0.5793, g_loss: 5.5782, D(x): 0.86, D(G(z)): 0.09\n",
            "Epoch [19/100], Step [600/600], d_loss: 0.4508, g_loss: 3.4423, D(x): 0.89, D(G(z)): 0.15\n",
            "Saving fake_images-0020.png\n",
            "Epoch [20/100], Step [200/600], d_loss: 0.3688, g_loss: 4.1078, D(x): 0.92, D(G(z)): 0.13\n",
            "Epoch [20/100], Step [400/600], d_loss: 0.2866, g_loss: 4.2881, D(x): 0.92, D(G(z)): 0.10\n",
            "Epoch [20/100], Step [600/600], d_loss: 0.2112, g_loss: 4.9306, D(x): 0.93, D(G(z)): 0.06\n",
            "Saving fake_images-0021.png\n",
            "Epoch [21/100], Step [200/600], d_loss: 0.3884, g_loss: 3.8195, D(x): 0.86, D(G(z)): 0.08\n",
            "Epoch [21/100], Step [400/600], d_loss: 0.8320, g_loss: 2.6993, D(x): 0.75, D(G(z)): 0.06\n",
            "Epoch [21/100], Step [600/600], d_loss: 0.4138, g_loss: 3.5649, D(x): 0.89, D(G(z)): 0.17\n",
            "Saving fake_images-0022.png\n",
            "Epoch [22/100], Step [200/600], d_loss: 0.4784, g_loss: 3.9211, D(x): 0.89, D(G(z)): 0.17\n",
            "Epoch [22/100], Step [400/600], d_loss: 0.4641, g_loss: 3.8088, D(x): 0.83, D(G(z)): 0.07\n",
            "Epoch [22/100], Step [600/600], d_loss: 0.3000, g_loss: 3.7886, D(x): 0.93, D(G(z)): 0.10\n",
            "Saving fake_images-0023.png\n",
            "Epoch [23/100], Step [200/600], d_loss: 0.4499, g_loss: 3.0534, D(x): 0.91, D(G(z)): 0.19\n",
            "Epoch [23/100], Step [400/600], d_loss: 0.5275, g_loss: 3.7833, D(x): 0.84, D(G(z)): 0.12\n",
            "Epoch [23/100], Step [600/600], d_loss: 0.7604, g_loss: 4.6350, D(x): 0.83, D(G(z)): 0.18\n",
            "Saving fake_images-0024.png\n",
            "Epoch [24/100], Step [200/600], d_loss: 0.2549, g_loss: 3.5636, D(x): 0.95, D(G(z)): 0.14\n",
            "Epoch [24/100], Step [400/600], d_loss: 0.2804, g_loss: 3.5797, D(x): 0.95, D(G(z)): 0.16\n",
            "Epoch [24/100], Step [600/600], d_loss: 0.3855, g_loss: 3.5544, D(x): 0.94, D(G(z)): 0.20\n",
            "Saving fake_images-0025.png\n",
            "Epoch [25/100], Step [200/600], d_loss: 0.3877, g_loss: 3.6066, D(x): 0.83, D(G(z)): 0.06\n",
            "Epoch [25/100], Step [400/600], d_loss: 0.3651, g_loss: 3.7534, D(x): 0.93, D(G(z)): 0.14\n",
            "Epoch [25/100], Step [600/600], d_loss: 0.2822, g_loss: 4.3216, D(x): 0.91, D(G(z)): 0.09\n",
            "Saving fake_images-0026.png\n",
            "Epoch [26/100], Step [200/600], d_loss: 0.3728, g_loss: 3.9652, D(x): 0.89, D(G(z)): 0.13\n",
            "Epoch [26/100], Step [400/600], d_loss: 0.3975, g_loss: 3.4234, D(x): 0.87, D(G(z)): 0.14\n",
            "Epoch [26/100], Step [600/600], d_loss: 0.2231, g_loss: 3.5983, D(x): 0.94, D(G(z)): 0.10\n",
            "Saving fake_images-0027.png\n",
            "Epoch [27/100], Step [200/600], d_loss: 0.2832, g_loss: 4.8988, D(x): 0.90, D(G(z)): 0.02\n",
            "Epoch [27/100], Step [400/600], d_loss: 0.1215, g_loss: 5.0524, D(x): 0.96, D(G(z)): 0.06\n",
            "Epoch [27/100], Step [600/600], d_loss: 0.1082, g_loss: 4.5624, D(x): 0.97, D(G(z)): 0.06\n",
            "Saving fake_images-0028.png\n",
            "Epoch [28/100], Step [200/600], d_loss: 0.3460, g_loss: 4.7223, D(x): 0.95, D(G(z)): 0.12\n",
            "Epoch [28/100], Step [400/600], d_loss: 0.1982, g_loss: 4.9938, D(x): 0.95, D(G(z)): 0.06\n",
            "Epoch [28/100], Step [600/600], d_loss: 0.3152, g_loss: 3.9451, D(x): 0.97, D(G(z)): 0.20\n",
            "Saving fake_images-0029.png\n",
            "Epoch [29/100], Step [200/600], d_loss: 0.3450, g_loss: 3.7414, D(x): 0.92, D(G(z)): 0.08\n",
            "Epoch [29/100], Step [400/600], d_loss: 0.4507, g_loss: 3.2251, D(x): 0.89, D(G(z)): 0.11\n",
            "Epoch [29/100], Step [600/600], d_loss: 0.3937, g_loss: 3.6160, D(x): 0.91, D(G(z)): 0.11\n",
            "Saving fake_images-0030.png\n",
            "Epoch [30/100], Step [200/600], d_loss: 0.2331, g_loss: 4.1185, D(x): 0.94, D(G(z)): 0.11\n",
            "Epoch [30/100], Step [400/600], d_loss: 0.3296, g_loss: 3.5625, D(x): 0.93, D(G(z)): 0.16\n",
            "Epoch [30/100], Step [600/600], d_loss: 0.3816, g_loss: 4.4837, D(x): 0.84, D(G(z)): 0.05\n",
            "Saving fake_images-0031.png\n",
            "Epoch [31/100], Step [200/600], d_loss: 0.5012, g_loss: 5.4609, D(x): 0.86, D(G(z)): 0.09\n",
            "Epoch [31/100], Step [400/600], d_loss: 0.4903, g_loss: 4.2205, D(x): 0.84, D(G(z)): 0.08\n",
            "Epoch [31/100], Step [600/600], d_loss: 0.6328, g_loss: 3.3432, D(x): 0.83, D(G(z)): 0.17\n",
            "Saving fake_images-0032.png\n",
            "Epoch [32/100], Step [200/600], d_loss: 0.3380, g_loss: 3.2805, D(x): 0.88, D(G(z)): 0.08\n",
            "Epoch [32/100], Step [400/600], d_loss: 0.4130, g_loss: 3.2940, D(x): 0.92, D(G(z)): 0.17\n",
            "Epoch [32/100], Step [600/600], d_loss: 0.3012, g_loss: 3.3253, D(x): 0.93, D(G(z)): 0.14\n",
            "Saving fake_images-0033.png\n",
            "Epoch [33/100], Step [200/600], d_loss: 0.9414, g_loss: 3.9558, D(x): 0.92, D(G(z)): 0.42\n",
            "Epoch [33/100], Step [400/600], d_loss: 0.4102, g_loss: 3.3431, D(x): 0.91, D(G(z)): 0.17\n",
            "Epoch [33/100], Step [600/600], d_loss: 0.7317, g_loss: 2.4274, D(x): 0.88, D(G(z)): 0.25\n",
            "Saving fake_images-0034.png\n",
            "Epoch [34/100], Step [200/600], d_loss: 0.5335, g_loss: 2.9158, D(x): 0.81, D(G(z)): 0.09\n",
            "Epoch [34/100], Step [400/600], d_loss: 0.3071, g_loss: 3.8068, D(x): 0.93, D(G(z)): 0.12\n",
            "Epoch [34/100], Step [600/600], d_loss: 0.2804, g_loss: 3.6273, D(x): 0.90, D(G(z)): 0.08\n",
            "Saving fake_images-0035.png\n",
            "Epoch [35/100], Step [200/600], d_loss: 0.6187, g_loss: 3.8471, D(x): 0.82, D(G(z)): 0.09\n",
            "Epoch [35/100], Step [400/600], d_loss: 0.6142, g_loss: 2.9666, D(x): 0.85, D(G(z)): 0.17\n",
            "Epoch [35/100], Step [600/600], d_loss: 0.3020, g_loss: 3.4881, D(x): 0.90, D(G(z)): 0.09\n",
            "Saving fake_images-0036.png\n",
            "Epoch [36/100], Step [200/600], d_loss: 0.4623, g_loss: 3.7514, D(x): 0.89, D(G(z)): 0.14\n",
            "Epoch [36/100], Step [400/600], d_loss: 0.3983, g_loss: 4.3199, D(x): 0.88, D(G(z)): 0.06\n",
            "Epoch [36/100], Step [600/600], d_loss: 0.5620, g_loss: 2.8133, D(x): 0.92, D(G(z)): 0.27\n",
            "Saving fake_images-0037.png\n",
            "Epoch [37/100], Step [200/600], d_loss: 0.5951, g_loss: 3.4227, D(x): 0.87, D(G(z)): 0.19\n",
            "Epoch [37/100], Step [400/600], d_loss: 0.5601, g_loss: 2.9321, D(x): 0.79, D(G(z)): 0.05\n",
            "Epoch [37/100], Step [600/600], d_loss: 0.3855, g_loss: 3.4682, D(x): 0.88, D(G(z)): 0.12\n",
            "Saving fake_images-0038.png\n",
            "Epoch [38/100], Step [200/600], d_loss: 0.2667, g_loss: 4.0597, D(x): 0.93, D(G(z)): 0.13\n",
            "Epoch [38/100], Step [400/600], d_loss: 0.4031, g_loss: 2.9123, D(x): 0.86, D(G(z)): 0.11\n",
            "Epoch [38/100], Step [600/600], d_loss: 0.2605, g_loss: 3.1227, D(x): 0.91, D(G(z)): 0.09\n",
            "Saving fake_images-0039.png\n",
            "Epoch [39/100], Step [200/600], d_loss: 0.3530, g_loss: 4.0167, D(x): 0.89, D(G(z)): 0.09\n",
            "Epoch [39/100], Step [400/600], d_loss: 0.4047, g_loss: 3.6065, D(x): 0.88, D(G(z)): 0.13\n",
            "Epoch [39/100], Step [600/600], d_loss: 0.3787, g_loss: 4.1049, D(x): 0.88, D(G(z)): 0.05\n",
            "Saving fake_images-0040.png\n",
            "Epoch [40/100], Step [200/600], d_loss: 0.2748, g_loss: 2.6898, D(x): 0.94, D(G(z)): 0.12\n",
            "Epoch [40/100], Step [400/600], d_loss: 0.2596, g_loss: 3.8520, D(x): 0.90, D(G(z)): 0.09\n",
            "Epoch [40/100], Step [600/600], d_loss: 0.2917, g_loss: 4.8706, D(x): 0.90, D(G(z)): 0.08\n",
            "Saving fake_images-0041.png\n",
            "Epoch [41/100], Step [200/600], d_loss: 0.4074, g_loss: 3.3865, D(x): 0.94, D(G(z)): 0.22\n",
            "Epoch [41/100], Step [400/600], d_loss: 0.2036, g_loss: 3.0581, D(x): 0.94, D(G(z)): 0.08\n",
            "Epoch [41/100], Step [600/600], d_loss: 0.3495, g_loss: 3.3009, D(x): 0.88, D(G(z)): 0.10\n",
            "Saving fake_images-0042.png\n",
            "Epoch [42/100], Step [200/600], d_loss: 0.3452, g_loss: 3.8400, D(x): 0.87, D(G(z)): 0.08\n",
            "Epoch [42/100], Step [400/600], d_loss: 0.4490, g_loss: 2.4176, D(x): 0.88, D(G(z)): 0.17\n",
            "Epoch [42/100], Step [600/600], d_loss: 0.4845, g_loss: 2.1964, D(x): 0.86, D(G(z)): 0.18\n",
            "Saving fake_images-0043.png\n",
            "Epoch [43/100], Step [200/600], d_loss: 0.5883, g_loss: 3.2974, D(x): 0.78, D(G(z)): 0.09\n",
            "Epoch [43/100], Step [400/600], d_loss: 0.2397, g_loss: 3.4805, D(x): 0.91, D(G(z)): 0.09\n",
            "Epoch [43/100], Step [600/600], d_loss: 0.6625, g_loss: 2.7110, D(x): 0.81, D(G(z)): 0.13\n",
            "Saving fake_images-0044.png\n",
            "Epoch [44/100], Step [200/600], d_loss: 0.4088, g_loss: 2.6787, D(x): 0.94, D(G(z)): 0.21\n",
            "Epoch [44/100], Step [400/600], d_loss: 0.3689, g_loss: 2.6428, D(x): 0.91, D(G(z)): 0.17\n",
            "Epoch [44/100], Step [600/600], d_loss: 0.3068, g_loss: 3.6034, D(x): 0.86, D(G(z)): 0.06\n",
            "Saving fake_images-0045.png\n",
            "Epoch [45/100], Step [200/600], d_loss: 0.4410, g_loss: 2.0182, D(x): 0.88, D(G(z)): 0.18\n",
            "Epoch [45/100], Step [400/600], d_loss: 0.5491, g_loss: 3.2871, D(x): 0.85, D(G(z)): 0.17\n",
            "Epoch [45/100], Step [600/600], d_loss: 0.7024, g_loss: 3.9010, D(x): 0.81, D(G(z)): 0.17\n",
            "Saving fake_images-0046.png\n",
            "Epoch [46/100], Step [200/600], d_loss: 0.8568, g_loss: 2.0836, D(x): 0.73, D(G(z)): 0.15\n",
            "Epoch [46/100], Step [400/600], d_loss: 0.4758, g_loss: 1.9259, D(x): 0.83, D(G(z)): 0.14\n",
            "Epoch [46/100], Step [600/600], d_loss: 0.5618, g_loss: 2.8655, D(x): 0.86, D(G(z)): 0.23\n",
            "Saving fake_images-0047.png\n",
            "Epoch [47/100], Step [200/600], d_loss: 0.4593, g_loss: 2.4376, D(x): 0.84, D(G(z)): 0.17\n",
            "Epoch [47/100], Step [400/600], d_loss: 0.5595, g_loss: 3.2264, D(x): 0.82, D(G(z)): 0.13\n",
            "Epoch [47/100], Step [600/600], d_loss: 0.5608, g_loss: 2.1207, D(x): 0.85, D(G(z)): 0.22\n",
            "Saving fake_images-0048.png\n",
            "Epoch [48/100], Step [200/600], d_loss: 0.6032, g_loss: 1.8130, D(x): 0.84, D(G(z)): 0.22\n",
            "Epoch [48/100], Step [400/600], d_loss: 0.4422, g_loss: 2.6629, D(x): 0.85, D(G(z)): 0.18\n",
            "Epoch [48/100], Step [600/600], d_loss: 0.4388, g_loss: 3.0428, D(x): 0.87, D(G(z)): 0.18\n",
            "Saving fake_images-0049.png\n",
            "Epoch [49/100], Step [200/600], d_loss: 0.5393, g_loss: 2.0038, D(x): 0.88, D(G(z)): 0.22\n",
            "Epoch [49/100], Step [400/600], d_loss: 0.4760, g_loss: 2.5938, D(x): 0.87, D(G(z)): 0.18\n",
            "Epoch [49/100], Step [600/600], d_loss: 0.6618, g_loss: 3.2427, D(x): 0.80, D(G(z)): 0.19\n",
            "Saving fake_images-0050.png\n",
            "Epoch [50/100], Step [200/600], d_loss: 0.6745, g_loss: 2.5663, D(x): 0.82, D(G(z)): 0.25\n",
            "Epoch [50/100], Step [400/600], d_loss: 0.6896, g_loss: 4.2245, D(x): 0.74, D(G(z)): 0.08\n",
            "Epoch [50/100], Step [600/600], d_loss: 0.4821, g_loss: 3.0116, D(x): 0.84, D(G(z)): 0.11\n",
            "Saving fake_images-0051.png\n",
            "Epoch [51/100], Step [200/600], d_loss: 0.6996, g_loss: 1.6716, D(x): 0.81, D(G(z)): 0.25\n",
            "Epoch [51/100], Step [400/600], d_loss: 0.5625, g_loss: 2.4218, D(x): 0.86, D(G(z)): 0.24\n",
            "Epoch [51/100], Step [600/600], d_loss: 0.5354, g_loss: 2.7080, D(x): 0.88, D(G(z)): 0.24\n",
            "Saving fake_images-0052.png\n",
            "Epoch [52/100], Step [200/600], d_loss: 0.4761, g_loss: 2.9842, D(x): 0.80, D(G(z)): 0.10\n",
            "Epoch [52/100], Step [400/600], d_loss: 0.3784, g_loss: 2.7012, D(x): 0.90, D(G(z)): 0.18\n",
            "Epoch [52/100], Step [600/600], d_loss: 0.5634, g_loss: 2.4387, D(x): 0.79, D(G(z)): 0.13\n",
            "Saving fake_images-0053.png\n",
            "Epoch [53/100], Step [200/600], d_loss: 0.5988, g_loss: 2.0073, D(x): 0.87, D(G(z)): 0.26\n",
            "Epoch [53/100], Step [400/600], d_loss: 0.6242, g_loss: 3.2704, D(x): 0.76, D(G(z)): 0.11\n",
            "Epoch [53/100], Step [600/600], d_loss: 0.6400, g_loss: 2.7740, D(x): 0.80, D(G(z)): 0.20\n",
            "Saving fake_images-0054.png\n",
            "Epoch [54/100], Step [200/600], d_loss: 0.6263, g_loss: 3.0453, D(x): 0.81, D(G(z)): 0.18\n",
            "Epoch [54/100], Step [400/600], d_loss: 0.6810, g_loss: 2.1095, D(x): 0.76, D(G(z)): 0.19\n",
            "Epoch [54/100], Step [600/600], d_loss: 0.7310, g_loss: 2.7926, D(x): 0.78, D(G(z)): 0.20\n",
            "Saving fake_images-0055.png\n",
            "Epoch [55/100], Step [200/600], d_loss: 0.5754, g_loss: 2.4326, D(x): 0.80, D(G(z)): 0.16\n",
            "Epoch [55/100], Step [400/600], d_loss: 0.4776, g_loss: 3.4943, D(x): 0.83, D(G(z)): 0.17\n",
            "Epoch [55/100], Step [600/600], d_loss: 0.8553, g_loss: 2.6937, D(x): 0.70, D(G(z)): 0.11\n",
            "Saving fake_images-0056.png\n",
            "Epoch [56/100], Step [200/600], d_loss: 0.3782, g_loss: 2.4235, D(x): 0.87, D(G(z)): 0.17\n",
            "Epoch [56/100], Step [400/600], d_loss: 0.5738, g_loss: 3.0961, D(x): 0.77, D(G(z)): 0.15\n",
            "Epoch [56/100], Step [600/600], d_loss: 0.6232, g_loss: 2.4373, D(x): 0.88, D(G(z)): 0.28\n",
            "Saving fake_images-0057.png\n",
            "Epoch [57/100], Step [200/600], d_loss: 0.4607, g_loss: 2.7539, D(x): 0.90, D(G(z)): 0.23\n",
            "Epoch [57/100], Step [400/600], d_loss: 0.7859, g_loss: 2.7059, D(x): 0.73, D(G(z)): 0.18\n",
            "Epoch [57/100], Step [600/600], d_loss: 0.8221, g_loss: 2.3111, D(x): 0.82, D(G(z)): 0.32\n",
            "Saving fake_images-0058.png\n",
            "Epoch [58/100], Step [200/600], d_loss: 0.8182, g_loss: 1.8312, D(x): 0.82, D(G(z)): 0.30\n",
            "Epoch [58/100], Step [400/600], d_loss: 0.6338, g_loss: 2.8140, D(x): 0.76, D(G(z)): 0.18\n",
            "Epoch [58/100], Step [600/600], d_loss: 0.6573, g_loss: 2.3012, D(x): 0.82, D(G(z)): 0.23\n",
            "Saving fake_images-0059.png\n",
            "Epoch [59/100], Step [200/600], d_loss: 0.6189, g_loss: 2.3262, D(x): 0.85, D(G(z)): 0.27\n",
            "Epoch [59/100], Step [400/600], d_loss: 0.4510, g_loss: 2.5303, D(x): 0.84, D(G(z)): 0.14\n",
            "Epoch [59/100], Step [600/600], d_loss: 0.6858, g_loss: 1.7439, D(x): 0.80, D(G(z)): 0.24\n",
            "Saving fake_images-0060.png\n",
            "Epoch [60/100], Step [200/600], d_loss: 0.5131, g_loss: 2.3424, D(x): 0.81, D(G(z)): 0.15\n",
            "Epoch [60/100], Step [400/600], d_loss: 0.5044, g_loss: 2.9196, D(x): 0.85, D(G(z)): 0.20\n",
            "Epoch [60/100], Step [600/600], d_loss: 0.6166, g_loss: 2.7130, D(x): 0.84, D(G(z)): 0.24\n",
            "Saving fake_images-0061.png\n",
            "Epoch [61/100], Step [200/600], d_loss: 0.7425, g_loss: 2.5894, D(x): 0.77, D(G(z)): 0.20\n",
            "Epoch [61/100], Step [400/600], d_loss: 0.6388, g_loss: 2.8908, D(x): 0.81, D(G(z)): 0.22\n",
            "Epoch [61/100], Step [600/600], d_loss: 0.7311, g_loss: 1.9156, D(x): 0.83, D(G(z)): 0.28\n",
            "Saving fake_images-0062.png\n",
            "Epoch [62/100], Step [200/600], d_loss: 0.4163, g_loss: 2.6532, D(x): 0.84, D(G(z)): 0.14\n",
            "Epoch [62/100], Step [400/600], d_loss: 0.5762, g_loss: 2.7041, D(x): 0.81, D(G(z)): 0.19\n",
            "Epoch [62/100], Step [600/600], d_loss: 0.6602, g_loss: 2.7741, D(x): 0.83, D(G(z)): 0.25\n",
            "Saving fake_images-0063.png\n",
            "Epoch [63/100], Step [200/600], d_loss: 0.7591, g_loss: 2.3910, D(x): 0.85, D(G(z)): 0.32\n",
            "Epoch [63/100], Step [400/600], d_loss: 0.6754, g_loss: 3.0245, D(x): 0.82, D(G(z)): 0.23\n",
            "Epoch [63/100], Step [600/600], d_loss: 0.7287, g_loss: 2.0176, D(x): 0.74, D(G(z)): 0.19\n",
            "Saving fake_images-0064.png\n",
            "Epoch [64/100], Step [200/600], d_loss: 0.7037, g_loss: 2.3627, D(x): 0.78, D(G(z)): 0.24\n",
            "Epoch [64/100], Step [400/600], d_loss: 0.7298, g_loss: 1.9217, D(x): 0.83, D(G(z)): 0.32\n",
            "Epoch [64/100], Step [600/600], d_loss: 0.7890, g_loss: 1.9866, D(x): 0.75, D(G(z)): 0.26\n",
            "Saving fake_images-0065.png\n",
            "Epoch [65/100], Step [200/600], d_loss: 0.8691, g_loss: 1.9771, D(x): 0.81, D(G(z)): 0.35\n",
            "Epoch [65/100], Step [400/600], d_loss: 0.6519, g_loss: 2.3556, D(x): 0.76, D(G(z)): 0.22\n",
            "Epoch [65/100], Step [600/600], d_loss: 1.0089, g_loss: 2.1377, D(x): 0.72, D(G(z)): 0.28\n",
            "Saving fake_images-0066.png\n",
            "Epoch [66/100], Step [200/600], d_loss: 0.8039, g_loss: 2.1804, D(x): 0.75, D(G(z)): 0.23\n",
            "Epoch [66/100], Step [400/600], d_loss: 0.6043, g_loss: 2.3740, D(x): 0.80, D(G(z)): 0.20\n",
            "Epoch [66/100], Step [600/600], d_loss: 0.7978, g_loss: 1.9006, D(x): 0.73, D(G(z)): 0.24\n",
            "Saving fake_images-0067.png\n",
            "Epoch [67/100], Step [200/600], d_loss: 0.7594, g_loss: 2.5542, D(x): 0.74, D(G(z)): 0.20\n",
            "Epoch [67/100], Step [400/600], d_loss: 0.8499, g_loss: 1.8552, D(x): 0.82, D(G(z)): 0.34\n",
            "Epoch [67/100], Step [600/600], d_loss: 0.8624, g_loss: 1.8565, D(x): 0.70, D(G(z)): 0.19\n",
            "Saving fake_images-0068.png\n",
            "Epoch [68/100], Step [200/600], d_loss: 0.6305, g_loss: 1.8338, D(x): 0.75, D(G(z)): 0.20\n",
            "Epoch [68/100], Step [400/600], d_loss: 0.7780, g_loss: 1.5315, D(x): 0.75, D(G(z)): 0.26\n",
            "Epoch [68/100], Step [600/600], d_loss: 0.9518, g_loss: 1.7891, D(x): 0.67, D(G(z)): 0.28\n",
            "Saving fake_images-0069.png\n",
            "Epoch [69/100], Step [200/600], d_loss: 0.6862, g_loss: 1.8415, D(x): 0.74, D(G(z)): 0.19\n",
            "Epoch [69/100], Step [400/600], d_loss: 0.8718, g_loss: 1.7314, D(x): 0.82, D(G(z)): 0.37\n",
            "Epoch [69/100], Step [600/600], d_loss: 0.9500, g_loss: 2.1498, D(x): 0.74, D(G(z)): 0.32\n",
            "Saving fake_images-0070.png\n",
            "Epoch [70/100], Step [200/600], d_loss: 0.8006, g_loss: 1.9386, D(x): 0.72, D(G(z)): 0.19\n",
            "Epoch [70/100], Step [400/600], d_loss: 0.9692, g_loss: 1.5201, D(x): 0.65, D(G(z)): 0.23\n",
            "Epoch [70/100], Step [600/600], d_loss: 0.7339, g_loss: 2.1671, D(x): 0.78, D(G(z)): 0.26\n",
            "Saving fake_images-0071.png\n",
            "Epoch [71/100], Step [200/600], d_loss: 0.6385, g_loss: 2.1853, D(x): 0.74, D(G(z)): 0.18\n",
            "Epoch [71/100], Step [400/600], d_loss: 0.7882, g_loss: 1.9940, D(x): 0.76, D(G(z)): 0.27\n",
            "Epoch [71/100], Step [600/600], d_loss: 0.8376, g_loss: 1.8223, D(x): 0.72, D(G(z)): 0.25\n",
            "Saving fake_images-0072.png\n",
            "Epoch [72/100], Step [200/600], d_loss: 0.7473, g_loss: 2.2542, D(x): 0.74, D(G(z)): 0.23\n",
            "Epoch [72/100], Step [400/600], d_loss: 0.7076, g_loss: 2.0821, D(x): 0.74, D(G(z)): 0.23\n",
            "Epoch [72/100], Step [600/600], d_loss: 0.7812, g_loss: 1.7526, D(x): 0.79, D(G(z)): 0.33\n",
            "Saving fake_images-0073.png\n",
            "Epoch [73/100], Step [200/600], d_loss: 0.7690, g_loss: 2.2283, D(x): 0.74, D(G(z)): 0.21\n",
            "Epoch [73/100], Step [400/600], d_loss: 0.8266, g_loss: 1.8634, D(x): 0.76, D(G(z)): 0.30\n",
            "Epoch [73/100], Step [600/600], d_loss: 0.8002, g_loss: 2.0725, D(x): 0.70, D(G(z)): 0.21\n",
            "Saving fake_images-0074.png\n",
            "Epoch [74/100], Step [200/600], d_loss: 0.6976, g_loss: 2.2399, D(x): 0.74, D(G(z)): 0.18\n",
            "Epoch [74/100], Step [400/600], d_loss: 0.8050, g_loss: 2.5705, D(x): 0.67, D(G(z)): 0.16\n",
            "Epoch [74/100], Step [600/600], d_loss: 0.7875, g_loss: 2.4002, D(x): 0.72, D(G(z)): 0.19\n",
            "Saving fake_images-0075.png\n",
            "Epoch [75/100], Step [200/600], d_loss: 0.8024, g_loss: 1.8178, D(x): 0.79, D(G(z)): 0.29\n",
            "Epoch [75/100], Step [400/600], d_loss: 0.6287, g_loss: 2.2915, D(x): 0.78, D(G(z)): 0.22\n",
            "Epoch [75/100], Step [600/600], d_loss: 0.8751, g_loss: 1.9683, D(x): 0.71, D(G(z)): 0.23\n",
            "Saving fake_images-0076.png\n",
            "Epoch [76/100], Step [200/600], d_loss: 0.6828, g_loss: 1.8569, D(x): 0.78, D(G(z)): 0.24\n",
            "Epoch [76/100], Step [400/600], d_loss: 0.5164, g_loss: 2.4604, D(x): 0.77, D(G(z)): 0.14\n",
            "Epoch [76/100], Step [600/600], d_loss: 0.9904, g_loss: 2.3455, D(x): 0.61, D(G(z)): 0.13\n",
            "Saving fake_images-0077.png\n",
            "Epoch [77/100], Step [200/600], d_loss: 0.9662, g_loss: 1.6247, D(x): 0.67, D(G(z)): 0.27\n",
            "Epoch [77/100], Step [400/600], d_loss: 0.6336, g_loss: 2.3793, D(x): 0.76, D(G(z)): 0.19\n",
            "Epoch [77/100], Step [600/600], d_loss: 0.7368, g_loss: 2.7000, D(x): 0.70, D(G(z)): 0.13\n",
            "Saving fake_images-0078.png\n",
            "Epoch [78/100], Step [200/600], d_loss: 1.1282, g_loss: 1.4837, D(x): 0.79, D(G(z)): 0.45\n",
            "Epoch [78/100], Step [400/600], d_loss: 0.9507, g_loss: 1.7809, D(x): 0.69, D(G(z)): 0.27\n",
            "Epoch [78/100], Step [600/600], d_loss: 0.8271, g_loss: 1.5840, D(x): 0.76, D(G(z)): 0.28\n",
            "Saving fake_images-0079.png\n",
            "Epoch [79/100], Step [200/600], d_loss: 0.7047, g_loss: 2.1360, D(x): 0.74, D(G(z)): 0.20\n",
            "Epoch [79/100], Step [400/600], d_loss: 0.7904, g_loss: 1.8341, D(x): 0.71, D(G(z)): 0.21\n",
            "Epoch [79/100], Step [600/600], d_loss: 1.0609, g_loss: 1.7204, D(x): 0.71, D(G(z)): 0.30\n",
            "Saving fake_images-0080.png\n",
            "Epoch [80/100], Step [200/600], d_loss: 0.8414, g_loss: 1.7533, D(x): 0.70, D(G(z)): 0.25\n",
            "Epoch [80/100], Step [400/600], d_loss: 1.0200, g_loss: 1.3124, D(x): 0.73, D(G(z)): 0.37\n",
            "Epoch [80/100], Step [600/600], d_loss: 0.7569, g_loss: 1.5539, D(x): 0.71, D(G(z)): 0.23\n",
            "Saving fake_images-0081.png\n",
            "Epoch [81/100], Step [200/600], d_loss: 0.8912, g_loss: 1.7054, D(x): 0.69, D(G(z)): 0.26\n",
            "Epoch [81/100], Step [400/600], d_loss: 0.9027, g_loss: 1.9176, D(x): 0.66, D(G(z)): 0.21\n",
            "Epoch [81/100], Step [600/600], d_loss: 0.8769, g_loss: 1.7961, D(x): 0.71, D(G(z)): 0.27\n",
            "Saving fake_images-0082.png\n",
            "Epoch [82/100], Step [200/600], d_loss: 0.7052, g_loss: 1.4035, D(x): 0.78, D(G(z)): 0.27\n",
            "Epoch [82/100], Step [400/600], d_loss: 0.6634, g_loss: 1.7659, D(x): 0.81, D(G(z)): 0.29\n",
            "Epoch [82/100], Step [600/600], d_loss: 0.9344, g_loss: 1.7016, D(x): 0.67, D(G(z)): 0.25\n",
            "Saving fake_images-0083.png\n",
            "Epoch [83/100], Step [200/600], d_loss: 0.8039, g_loss: 1.7649, D(x): 0.71, D(G(z)): 0.23\n",
            "Epoch [83/100], Step [400/600], d_loss: 0.9172, g_loss: 1.9701, D(x): 0.71, D(G(z)): 0.28\n",
            "Epoch [83/100], Step [600/600], d_loss: 0.7667, g_loss: 1.5286, D(x): 0.86, D(G(z)): 0.35\n",
            "Saving fake_images-0084.png\n",
            "Epoch [84/100], Step [200/600], d_loss: 0.8265, g_loss: 1.9879, D(x): 0.72, D(G(z)): 0.26\n",
            "Epoch [84/100], Step [400/600], d_loss: 1.0210, g_loss: 1.5755, D(x): 0.63, D(G(z)): 0.27\n",
            "Epoch [84/100], Step [600/600], d_loss: 0.9436, g_loss: 1.4509, D(x): 0.74, D(G(z)): 0.35\n",
            "Saving fake_images-0085.png\n",
            "Epoch [85/100], Step [200/600], d_loss: 0.8821, g_loss: 1.6411, D(x): 0.73, D(G(z)): 0.30\n",
            "Epoch [85/100], Step [400/600], d_loss: 0.9104, g_loss: 2.0995, D(x): 0.75, D(G(z)): 0.34\n",
            "Epoch [85/100], Step [600/600], d_loss: 0.6738, g_loss: 1.7458, D(x): 0.77, D(G(z)): 0.24\n",
            "Saving fake_images-0086.png\n",
            "Epoch [86/100], Step [200/600], d_loss: 1.0941, g_loss: 1.8189, D(x): 0.60, D(G(z)): 0.23\n",
            "Epoch [86/100], Step [400/600], d_loss: 0.9175, g_loss: 1.7954, D(x): 0.76, D(G(z)): 0.35\n",
            "Epoch [86/100], Step [600/600], d_loss: 0.8084, g_loss: 2.0572, D(x): 0.73, D(G(z)): 0.27\n",
            "Saving fake_images-0087.png\n",
            "Epoch [87/100], Step [200/600], d_loss: 0.8163, g_loss: 1.7978, D(x): 0.71, D(G(z)): 0.25\n",
            "Epoch [87/100], Step [400/600], d_loss: 0.9854, g_loss: 1.6724, D(x): 0.71, D(G(z)): 0.34\n",
            "Epoch [87/100], Step [600/600], d_loss: 0.9210, g_loss: 1.7330, D(x): 0.69, D(G(z)): 0.28\n",
            "Saving fake_images-0088.png\n",
            "Epoch [88/100], Step [200/600], d_loss: 0.9452, g_loss: 1.8356, D(x): 0.76, D(G(z)): 0.35\n",
            "Epoch [88/100], Step [400/600], d_loss: 0.7931, g_loss: 1.8587, D(x): 0.72, D(G(z)): 0.26\n",
            "Epoch [88/100], Step [600/600], d_loss: 0.8169, g_loss: 2.0117, D(x): 0.76, D(G(z)): 0.31\n",
            "Saving fake_images-0089.png\n",
            "Epoch [89/100], Step [200/600], d_loss: 0.9447, g_loss: 1.7242, D(x): 0.72, D(G(z)): 0.34\n",
            "Epoch [89/100], Step [400/600], d_loss: 0.7932, g_loss: 1.5523, D(x): 0.73, D(G(z)): 0.27\n",
            "Epoch [89/100], Step [600/600], d_loss: 0.8592, g_loss: 1.6072, D(x): 0.78, D(G(z)): 0.37\n",
            "Saving fake_images-0090.png\n",
            "Epoch [90/100], Step [200/600], d_loss: 0.9295, g_loss: 1.8850, D(x): 0.60, D(G(z)): 0.19\n",
            "Epoch [90/100], Step [400/600], d_loss: 0.8303, g_loss: 2.3368, D(x): 0.72, D(G(z)): 0.26\n",
            "Epoch [90/100], Step [600/600], d_loss: 0.7519, g_loss: 2.3044, D(x): 0.78, D(G(z)): 0.30\n",
            "Saving fake_images-0091.png\n",
            "Epoch [91/100], Step [200/600], d_loss: 0.7503, g_loss: 1.9394, D(x): 0.82, D(G(z)): 0.31\n",
            "Epoch [91/100], Step [400/600], d_loss: 0.7923, g_loss: 2.0290, D(x): 0.77, D(G(z)): 0.30\n",
            "Epoch [91/100], Step [600/600], d_loss: 0.8635, g_loss: 1.5689, D(x): 0.68, D(G(z)): 0.24\n",
            "Saving fake_images-0092.png\n",
            "Epoch [92/100], Step [200/600], d_loss: 0.9485, g_loss: 1.7854, D(x): 0.67, D(G(z)): 0.28\n",
            "Epoch [92/100], Step [400/600], d_loss: 0.9003, g_loss: 1.7102, D(x): 0.70, D(G(z)): 0.26\n",
            "Epoch [92/100], Step [600/600], d_loss: 0.7591, g_loss: 2.0013, D(x): 0.71, D(G(z)): 0.23\n",
            "Saving fake_images-0093.png\n",
            "Epoch [93/100], Step [200/600], d_loss: 1.1198, g_loss: 1.6474, D(x): 0.64, D(G(z)): 0.33\n",
            "Epoch [93/100], Step [400/600], d_loss: 1.0168, g_loss: 2.0400, D(x): 0.64, D(G(z)): 0.27\n",
            "Epoch [93/100], Step [600/600], d_loss: 0.8341, g_loss: 1.7949, D(x): 0.67, D(G(z)): 0.21\n",
            "Saving fake_images-0094.png\n",
            "Epoch [94/100], Step [200/600], d_loss: 1.0049, g_loss: 1.7427, D(x): 0.67, D(G(z)): 0.27\n",
            "Epoch [94/100], Step [400/600], d_loss: 0.7731, g_loss: 1.6245, D(x): 0.80, D(G(z)): 0.31\n",
            "Epoch [94/100], Step [600/600], d_loss: 0.9278, g_loss: 1.8461, D(x): 0.70, D(G(z)): 0.30\n",
            "Saving fake_images-0095.png\n",
            "Epoch [95/100], Step [200/600], d_loss: 0.8538, g_loss: 1.9336, D(x): 0.70, D(G(z)): 0.23\n",
            "Epoch [95/100], Step [400/600], d_loss: 0.8353, g_loss: 1.6302, D(x): 0.81, D(G(z)): 0.38\n",
            "Epoch [95/100], Step [600/600], d_loss: 0.8396, g_loss: 1.5291, D(x): 0.73, D(G(z)): 0.30\n",
            "Saving fake_images-0096.png\n",
            "Epoch [96/100], Step [200/600], d_loss: 0.8872, g_loss: 1.2971, D(x): 0.75, D(G(z)): 0.35\n",
            "Epoch [96/100], Step [400/600], d_loss: 0.8857, g_loss: 1.5244, D(x): 0.74, D(G(z)): 0.32\n",
            "Epoch [96/100], Step [600/600], d_loss: 0.8326, g_loss: 1.5258, D(x): 0.79, D(G(z)): 0.34\n",
            "Saving fake_images-0097.png\n",
            "Epoch [97/100], Step [200/600], d_loss: 1.1789, g_loss: 1.3740, D(x): 0.63, D(G(z)): 0.35\n",
            "Epoch [97/100], Step [400/600], d_loss: 1.1348, g_loss: 1.3870, D(x): 0.73, D(G(z)): 0.43\n",
            "Epoch [97/100], Step [600/600], d_loss: 0.7006, g_loss: 1.7888, D(x): 0.73, D(G(z)): 0.24\n",
            "Saving fake_images-0098.png\n",
            "Epoch [98/100], Step [200/600], d_loss: 0.7836, g_loss: 1.8548, D(x): 0.75, D(G(z)): 0.27\n",
            "Epoch [98/100], Step [400/600], d_loss: 0.8692, g_loss: 1.5230, D(x): 0.68, D(G(z)): 0.27\n",
            "Epoch [98/100], Step [600/600], d_loss: 0.8696, g_loss: 1.4289, D(x): 0.77, D(G(z)): 0.36\n",
            "Saving fake_images-0099.png\n",
            "Epoch [99/100], Step [200/600], d_loss: 1.0293, g_loss: 1.4786, D(x): 0.69, D(G(z)): 0.34\n",
            "Epoch [99/100], Step [400/600], d_loss: 0.9712, g_loss: 1.1615, D(x): 0.69, D(G(z)): 0.33\n",
            "Epoch [99/100], Step [600/600], d_loss: 0.9584, g_loss: 2.1687, D(x): 0.59, D(G(z)): 0.20\n",
            "Saving fake_images-0100.png\n",
            "CPU times: user 18min 12s, sys: 7.76 s, total: 18min 20s\n",
            "Wall time: 18min 24s\n"
          ],
          "name": "stdout"
        }
      ]
    },
    {
      "cell_type": "code",
      "metadata": {
        "id": "N9SWqCzm7lGC",
        "colab_type": "code",
        "colab": {}
      },
      "source": [
        "torch.save(G.state_dict(), 'G.ckpt')\n",
        "torch.save(D.state_dict(), 'D.ckpt')"
      ],
      "execution_count": 36,
      "outputs": []
    },
    {
      "cell_type": "code",
      "metadata": {
        "id": "VfEIen0B4Rqj",
        "colab_type": "code",
        "colab": {}
      },
      "source": [
        ""
      ],
      "execution_count": 36,
      "outputs": []
    },
    {
      "cell_type": "code",
      "metadata": {
        "id": "dI5cmSrM73wM",
        "colab_type": "code",
        "colab": {
          "base_uri": "https://localhost:8080/",
          "height": 34
        },
        "outputId": "a58c02ba-5c00-4154-a7a2-c74da4517684"
      },
      "source": [
        "import cv2\n",
        "import os\n",
        "from IPython.display import FileLink\n",
        "\n",
        "vid_fname = 'gans_training.avi'\n",
        "\n",
        "files = [os.path.join(sample_dir, f) for f in os.listdir(sample_dir) if 'fake_images' in f]\n",
        "files.sort()\n",
        "\n",
        "out = cv2.VideoWriter(vid_fname,cv2.VideoWriter_fourcc(*'MP4V'), 8, (302,302))\n",
        "[out.write(cv2.imread(fname)) for fname in files]\n",
        "out.release()\n",
        "FileLink('gans_training.avi')"
      ],
      "execution_count": 37,
      "outputs": [
        {
          "output_type": "execute_result",
          "data": {
            "text/html": [
              "<a href='gans_training.avi' target='_blank'>gans_training.avi</a><br>"
            ],
            "text/plain": [
              "/content/gans_training.avi"
            ]
          },
          "metadata": {
            "tags": []
          },
          "execution_count": 37
        }
      ]
    },
    {
      "cell_type": "code",
      "metadata": {
        "id": "yruhDpmn76vv",
        "colab_type": "code",
        "colab": {
          "base_uri": "https://localhost:8080/",
          "height": 295
        },
        "outputId": "9e3003bb-852c-42b8-f9d7-635cb724c1f2"
      },
      "source": [
        "plt.plot(d_losses, '-')\n",
        "plt.plot(g_losses, '-')\n",
        "plt.xlabel('epoch')\n",
        "plt.ylabel('loss')\n",
        "plt.legend(['Discriminator', 'Generator'])\n",
        "plt.title('Losses');"
      ],
      "execution_count": 38,
      "outputs": [
        {
          "output_type": "display_data",
          "data": {
            "image/png": "[encoded data removed]",
            "text/plain": [
              "<Figure size 432x288 with 1 Axes>"
            ]
          },
          "metadata": {
            "tags": [],
            "needs_background": "light"
          }
        }
      ]
    },
    {
      "cell_type": "code",
      "metadata": {
        "id": "ZeRKXvIN9Qbu",
        "colab_type": "code",
        "colab": {}
      },
      "source": [
        "#The Goal is to make sure the generator loss goes down"
      ],
      "execution_count": 39,
      "outputs": []
    },
    {
      "cell_type": "code",
      "metadata": {
        "id": "jGvxtf0b8p7e",
        "colab_type": "code",
        "colab": {
          "base_uri": "https://localhost:8080/",
          "height": 295
        },
        "outputId": "016753c0-8c04-4113-938e-cd5881050b5f"
      },
      "source": [
        "plt.plot(real_scores, '-')\n",
        "plt.plot(fake_scores, '-')\n",
        "plt.xlabel('epoch')\n",
        "plt.ylabel('score')\n",
        "plt.legend(['Real Score', 'Fake score'])\n",
        "plt.title('Scores');"
      ],
      "execution_count": 40,
      "outputs": [
        {
          "output_type": "display_data",
          "data": {
            "image/png": "[encoded data removed]",
            "text/plain": [
              "<Figure size 432x288 with 1 Axes>"
            ]
          },
          "metadata": {
            "tags": [],
            "needs_background": "light"
          }
        }
      ]
    },
    {
      "cell_type": "code",
      "metadata": {
        "id": "sbg76yUE8rjL",
        "colab_type": "code",
        "colab": {}
      },
      "source": [
        "#The goal with this graph is to bind the lines together as close as possible"
      ],
      "execution_count": 41,
      "outputs": []
    },
    {
      "cell_type": "code",
      "metadata": {
        "id": "0MmbjQkl9bbD",
        "colab_type": "code",
        "colab": {}
      },
      "source": [
        ""
      ],
      "execution_count": 41,
      "outputs": []
    }
  ]
}